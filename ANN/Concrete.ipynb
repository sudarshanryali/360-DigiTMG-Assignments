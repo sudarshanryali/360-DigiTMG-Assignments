{
 "cells": [
  {
   "cell_type": "markdown",
   "id": "radical-platform",
   "metadata": {},
   "source": [
    "# Importing Library"
   ]
  },
  {
   "cell_type": "code",
   "execution_count": 1,
   "id": "greater-hudson",
   "metadata": {},
   "outputs": [],
   "source": [
    "import numpy as np\n",
    "import pandas as pd\n",
    "import seaborn as sns\n",
    "import matplotlib.pyplot as plt"
   ]
  },
  {
   "cell_type": "code",
   "execution_count": 2,
   "id": "absent-integer",
   "metadata": {},
   "outputs": [],
   "source": [
    "from keras.layers.core import Dense\n",
    "from keras import Sequential"
   ]
  },
  {
   "cell_type": "markdown",
   "id": "signed-repeat",
   "metadata": {},
   "source": [
    "# Importing Dataset"
   ]
  },
  {
   "cell_type": "code",
   "execution_count": 3,
   "id": "established-saver",
   "metadata": {},
   "outputs": [
    {
     "data": {
      "text/html": [
       "<div>\n",
       "<style scoped>\n",
       "    .dataframe tbody tr th:only-of-type {\n",
       "        vertical-align: middle;\n",
       "    }\n",
       "\n",
       "    .dataframe tbody tr th {\n",
       "        vertical-align: top;\n",
       "    }\n",
       "\n",
       "    .dataframe thead th {\n",
       "        text-align: right;\n",
       "    }\n",
       "</style>\n",
       "<table border=\"1\" class=\"dataframe\">\n",
       "  <thead>\n",
       "    <tr style=\"text-align: right;\">\n",
       "      <th></th>\n",
       "      <th>cement</th>\n",
       "      <th>slag</th>\n",
       "      <th>ash</th>\n",
       "      <th>water</th>\n",
       "      <th>superplastic</th>\n",
       "      <th>coarseagg</th>\n",
       "      <th>fineagg</th>\n",
       "      <th>age</th>\n",
       "      <th>strength</th>\n",
       "    </tr>\n",
       "  </thead>\n",
       "  <tbody>\n",
       "    <tr>\n",
       "      <th>0</th>\n",
       "      <td>141.3</td>\n",
       "      <td>212.0</td>\n",
       "      <td>0.0</td>\n",
       "      <td>203.5</td>\n",
       "      <td>0.0</td>\n",
       "      <td>971.8</td>\n",
       "      <td>748.5</td>\n",
       "      <td>28</td>\n",
       "      <td>29.89</td>\n",
       "    </tr>\n",
       "    <tr>\n",
       "      <th>1</th>\n",
       "      <td>168.9</td>\n",
       "      <td>42.2</td>\n",
       "      <td>124.3</td>\n",
       "      <td>158.3</td>\n",
       "      <td>10.8</td>\n",
       "      <td>1080.8</td>\n",
       "      <td>796.2</td>\n",
       "      <td>14</td>\n",
       "      <td>23.51</td>\n",
       "    </tr>\n",
       "    <tr>\n",
       "      <th>2</th>\n",
       "      <td>250.0</td>\n",
       "      <td>0.0</td>\n",
       "      <td>95.7</td>\n",
       "      <td>187.4</td>\n",
       "      <td>5.5</td>\n",
       "      <td>956.9</td>\n",
       "      <td>861.2</td>\n",
       "      <td>28</td>\n",
       "      <td>29.22</td>\n",
       "    </tr>\n",
       "    <tr>\n",
       "      <th>3</th>\n",
       "      <td>266.0</td>\n",
       "      <td>114.0</td>\n",
       "      <td>0.0</td>\n",
       "      <td>228.0</td>\n",
       "      <td>0.0</td>\n",
       "      <td>932.0</td>\n",
       "      <td>670.0</td>\n",
       "      <td>28</td>\n",
       "      <td>45.85</td>\n",
       "    </tr>\n",
       "    <tr>\n",
       "      <th>4</th>\n",
       "      <td>154.8</td>\n",
       "      <td>183.4</td>\n",
       "      <td>0.0</td>\n",
       "      <td>193.3</td>\n",
       "      <td>9.1</td>\n",
       "      <td>1047.4</td>\n",
       "      <td>696.7</td>\n",
       "      <td>28</td>\n",
       "      <td>18.29</td>\n",
       "    </tr>\n",
       "    <tr>\n",
       "      <th>...</th>\n",
       "      <td>...</td>\n",
       "      <td>...</td>\n",
       "      <td>...</td>\n",
       "      <td>...</td>\n",
       "      <td>...</td>\n",
       "      <td>...</td>\n",
       "      <td>...</td>\n",
       "      <td>...</td>\n",
       "      <td>...</td>\n",
       "    </tr>\n",
       "    <tr>\n",
       "      <th>1025</th>\n",
       "      <td>135.0</td>\n",
       "      <td>0.0</td>\n",
       "      <td>166.0</td>\n",
       "      <td>180.0</td>\n",
       "      <td>10.0</td>\n",
       "      <td>961.0</td>\n",
       "      <td>805.0</td>\n",
       "      <td>28</td>\n",
       "      <td>13.29</td>\n",
       "    </tr>\n",
       "    <tr>\n",
       "      <th>1026</th>\n",
       "      <td>531.3</td>\n",
       "      <td>0.0</td>\n",
       "      <td>0.0</td>\n",
       "      <td>141.8</td>\n",
       "      <td>28.2</td>\n",
       "      <td>852.1</td>\n",
       "      <td>893.7</td>\n",
       "      <td>3</td>\n",
       "      <td>41.30</td>\n",
       "    </tr>\n",
       "    <tr>\n",
       "      <th>1027</th>\n",
       "      <td>276.4</td>\n",
       "      <td>116.0</td>\n",
       "      <td>90.3</td>\n",
       "      <td>179.6</td>\n",
       "      <td>8.9</td>\n",
       "      <td>870.1</td>\n",
       "      <td>768.3</td>\n",
       "      <td>28</td>\n",
       "      <td>44.28</td>\n",
       "    </tr>\n",
       "    <tr>\n",
       "      <th>1028</th>\n",
       "      <td>342.0</td>\n",
       "      <td>38.0</td>\n",
       "      <td>0.0</td>\n",
       "      <td>228.0</td>\n",
       "      <td>0.0</td>\n",
       "      <td>932.0</td>\n",
       "      <td>670.0</td>\n",
       "      <td>270</td>\n",
       "      <td>55.06</td>\n",
       "    </tr>\n",
       "    <tr>\n",
       "      <th>1029</th>\n",
       "      <td>540.0</td>\n",
       "      <td>0.0</td>\n",
       "      <td>0.0</td>\n",
       "      <td>173.0</td>\n",
       "      <td>0.0</td>\n",
       "      <td>1125.0</td>\n",
       "      <td>613.0</td>\n",
       "      <td>7</td>\n",
       "      <td>52.61</td>\n",
       "    </tr>\n",
       "  </tbody>\n",
       "</table>\n",
       "<p>1030 rows × 9 columns</p>\n",
       "</div>"
      ],
      "text/plain": [
       "      cement   slag    ash  water  superplastic  coarseagg  fineagg  age  \\\n",
       "0      141.3  212.0    0.0  203.5           0.0      971.8    748.5   28   \n",
       "1      168.9   42.2  124.3  158.3          10.8     1080.8    796.2   14   \n",
       "2      250.0    0.0   95.7  187.4           5.5      956.9    861.2   28   \n",
       "3      266.0  114.0    0.0  228.0           0.0      932.0    670.0   28   \n",
       "4      154.8  183.4    0.0  193.3           9.1     1047.4    696.7   28   \n",
       "...      ...    ...    ...    ...           ...        ...      ...  ...   \n",
       "1025   135.0    0.0  166.0  180.0          10.0      961.0    805.0   28   \n",
       "1026   531.3    0.0    0.0  141.8          28.2      852.1    893.7    3   \n",
       "1027   276.4  116.0   90.3  179.6           8.9      870.1    768.3   28   \n",
       "1028   342.0   38.0    0.0  228.0           0.0      932.0    670.0  270   \n",
       "1029   540.0    0.0    0.0  173.0           0.0     1125.0    613.0    7   \n",
       "\n",
       "      strength  \n",
       "0        29.89  \n",
       "1        23.51  \n",
       "2        29.22  \n",
       "3        45.85  \n",
       "4        18.29  \n",
       "...        ...  \n",
       "1025     13.29  \n",
       "1026     41.30  \n",
       "1027     44.28  \n",
       "1028     55.06  \n",
       "1029     52.61  \n",
       "\n",
       "[1030 rows x 9 columns]"
      ]
     },
     "execution_count": 3,
     "metadata": {},
     "output_type": "execute_result"
    }
   ],
   "source": [
    "df=pd.read_csv('concrete.csv')\n",
    "df"
   ]
  },
  {
   "cell_type": "code",
   "execution_count": 4,
   "id": "naked-underground",
   "metadata": {},
   "outputs": [],
   "source": [
    "x=df.drop(['strength'],axis=1)\n",
    "y=df['strength']"
   ]
  },
  {
   "cell_type": "code",
   "execution_count": 5,
   "id": "minute-contrary",
   "metadata": {},
   "outputs": [
    {
     "data": {
      "text/plain": [
       "(1030, 8)"
      ]
     },
     "execution_count": 5,
     "metadata": {},
     "output_type": "execute_result"
    }
   ],
   "source": [
    "x.shape"
   ]
  },
  {
   "cell_type": "markdown",
   "id": "danish-young",
   "metadata": {},
   "source": [
    "# Performing Sequential model"
   ]
  },
  {
   "cell_type": "code",
   "execution_count": 6,
   "id": "governmental-skill",
   "metadata": {},
   "outputs": [],
   "source": [
    "model=Sequential()\n",
    "model.add(Dense(12,input_dim=8,kernel_initializer='normal',activation='relu'))\n",
    "model.add(Dense(8,kernel_initializer='normal',activation='relu'))\n",
    "model.add(Dense(1,kernel_initializer='normal'))"
   ]
  },
  {
   "cell_type": "code",
   "execution_count": 7,
   "id": "demonstrated-thesis",
   "metadata": {},
   "outputs": [],
   "source": [
    "model.compile(loss='mean_squared_error',optimizer='adam')"
   ]
  },
  {
   "cell_type": "markdown",
   "id": "integral-collection",
   "metadata": {},
   "source": [
    "# Fitting The Model"
   ]
  },
  {
   "cell_type": "code",
   "execution_count": 8,
   "id": "through-genius",
   "metadata": {},
   "outputs": [
    {
     "name": "stdout",
     "output_type": "stream",
     "text": [
      "Epoch 1/100\n",
      "103/103 [==============================] - 0s 1ms/step - loss: 909.4157\n",
      "Epoch 2/100\n",
      "103/103 [==============================] - 0s 1ms/step - loss: 247.3357\n",
      "Epoch 3/100\n",
      "103/103 [==============================] - 0s 668us/step - loss: 223.2814\n",
      "Epoch 4/100\n",
      "103/103 [==============================] - 0s 818us/step - loss: 181.0602\n",
      "Epoch 5/100\n",
      "103/103 [==============================] - 0s 771us/step - loss: 148.0419\n",
      "Epoch 6/100\n",
      "103/103 [==============================] - 0s 893us/step - loss: 131.0341\n",
      "Epoch 7/100\n",
      "103/103 [==============================] - 0s 870us/step - loss: 120.7765\n",
      "Epoch 8/100\n",
      "103/103 [==============================] - 0s 977us/step - loss: 117.5387\n",
      "Epoch 9/100\n",
      "103/103 [==============================] - 0s 879us/step - loss: 114.7991\n",
      "Epoch 10/100\n",
      "103/103 [==============================] - 0s 943us/step - loss: 114.1702\n",
      "Epoch 11/100\n",
      "103/103 [==============================] - 0s 881us/step - loss: 111.7716\n",
      "Epoch 12/100\n",
      "103/103 [==============================] - 0s 1ms/step - loss: 110.1458\n",
      "Epoch 13/100\n",
      "103/103 [==============================] - 0s 1ms/step - loss: 108.9114\n",
      "Epoch 14/100\n",
      "103/103 [==============================] - 0s 889us/step - loss: 107.5720\n",
      "Epoch 15/100\n",
      "103/103 [==============================] - 0s 916us/step - loss: 103.8464\n",
      "Epoch 16/100\n",
      "103/103 [==============================] - 0s 920us/step - loss: 102.2797\n",
      "Epoch 17/100\n",
      "103/103 [==============================] - 0s 815us/step - loss: 99.1880\n",
      "Epoch 18/100\n",
      "103/103 [==============================] - 0s 906us/step - loss: 98.3108\n",
      "Epoch 19/100\n",
      "103/103 [==============================] - 0s 873us/step - loss: 93.9621\n",
      "Epoch 20/100\n",
      "103/103 [==============================] - 0s 861us/step - loss: 90.9877\n",
      "Epoch 21/100\n",
      "103/103 [==============================] - 0s 795us/step - loss: 89.5130\n",
      "Epoch 22/100\n",
      "103/103 [==============================] - 0s 882us/step - loss: 87.2106\n",
      "Epoch 23/100\n",
      "103/103 [==============================] - 0s 844us/step - loss: 83.4459\n",
      "Epoch 24/100\n",
      "103/103 [==============================] - 0s 874us/step - loss: 81.0182\n",
      "Epoch 25/100\n",
      "103/103 [==============================] - 0s 898us/step - loss: 84.0936\n",
      "Epoch 26/100\n",
      "103/103 [==============================] - 0s 870us/step - loss: 73.7400\n",
      "Epoch 27/100\n",
      "103/103 [==============================] - 0s 755us/step - loss: 71.6520\n",
      "Epoch 28/100\n",
      "103/103 [==============================] - 0s 682us/step - loss: 73.6069\n",
      "Epoch 29/100\n",
      "103/103 [==============================] - 0s 964us/step - loss: 70.1732\n",
      "Epoch 30/100\n",
      "103/103 [==============================] - 0s 831us/step - loss: 66.1108\n",
      "Epoch 31/100\n",
      "103/103 [==============================] - 0s 725us/step - loss: 66.1087\n",
      "Epoch 32/100\n",
      "103/103 [==============================] - 0s 928us/step - loss: 63.2527\n",
      "Epoch 33/100\n",
      "103/103 [==============================] - 0s 896us/step - loss: 59.8889\n",
      "Epoch 34/100\n",
      "103/103 [==============================] - 0s 686us/step - loss: 58.0661\n",
      "Epoch 35/100\n",
      "103/103 [==============================] - 0s 829us/step - loss: 58.3335\n",
      "Epoch 36/100\n",
      "103/103 [==============================] - 0s 820us/step - loss: 56.7154\n",
      "Epoch 37/100\n",
      "103/103 [==============================] - ETA: 0s - loss: 55.83 - 0s 733us/step - loss: 57.9666\n",
      "Epoch 38/100\n",
      "103/103 [==============================] - 0s 812us/step - loss: 55.2745\n",
      "Epoch 39/100\n",
      "103/103 [==============================] - 0s 777us/step - loss: 55.32440s - loss: 55.44\n",
      "Epoch 40/100\n",
      "103/103 [==============================] - 0s 793us/step - loss: 54.1558\n",
      "Epoch 41/100\n",
      "103/103 [==============================] - ETA: 0s - loss: 54.31 - 0s 691us/step - loss: 54.9067\n",
      "Epoch 42/100\n",
      "103/103 [==============================] - 0s 803us/step - loss: 54.6907\n",
      "Epoch 43/100\n",
      "103/103 [==============================] - 0s 782us/step - loss: 53.6827\n",
      "Epoch 44/100\n",
      "103/103 [==============================] - 0s 915us/step - loss: 52.1885\n",
      "Epoch 45/100\n",
      "103/103 [==============================] - 0s 888us/step - loss: 51.6938\n",
      "Epoch 46/100\n",
      "103/103 [==============================] - 0s 740us/step - loss: 49.6916\n",
      "Epoch 47/100\n",
      "103/103 [==============================] - 0s 953us/step - loss: 49.7053\n",
      "Epoch 48/100\n",
      "103/103 [==============================] - 0s 840us/step - loss: 51.3132\n",
      "Epoch 49/100\n",
      "103/103 [==============================] - 0s 850us/step - loss: 53.1507\n",
      "Epoch 50/100\n",
      "103/103 [==============================] - 0s 759us/step - loss: 50.1027\n",
      "Epoch 51/100\n",
      "103/103 [==============================] - 0s 834us/step - loss: 50.3416\n",
      "Epoch 52/100\n",
      "103/103 [==============================] - 0s 722us/step - loss: 49.2966\n",
      "Epoch 53/100\n",
      "103/103 [==============================] - 0s 730us/step - loss: 50.4549\n",
      "Epoch 54/100\n",
      "103/103 [==============================] - 0s 930us/step - loss: 49.9936\n",
      "Epoch 55/100\n",
      "103/103 [==============================] - 0s 838us/step - loss: 48.9397\n",
      "Epoch 56/100\n",
      "103/103 [==============================] - 0s 858us/step - loss: 49.7217\n",
      "Epoch 57/100\n",
      "103/103 [==============================] - 0s 1ms/step - loss: 50.3732\n",
      "Epoch 58/100\n",
      "103/103 [==============================] - 0s 923us/step - loss: 49.7375\n",
      "Epoch 59/100\n",
      "103/103 [==============================] - 0s 848us/step - loss: 50.4649\n",
      "Epoch 60/100\n",
      "103/103 [==============================] - 0s 851us/step - loss: 48.8483\n",
      "Epoch 61/100\n",
      "103/103 [==============================] - 0s 826us/step - loss: 50.1003\n",
      "Epoch 62/100\n",
      "103/103 [==============================] - 0s 828us/step - loss: 49.9723\n",
      "Epoch 63/100\n",
      "103/103 [==============================] - 0s 855us/step - loss: 49.1410\n",
      "Epoch 64/100\n",
      "103/103 [==============================] - 0s 862us/step - loss: 50.3062\n",
      "Epoch 65/100\n",
      "103/103 [==============================] - 0s 806us/step - loss: 49.3614\n",
      "Epoch 66/100\n",
      "103/103 [==============================] - 0s 887us/step - loss: 48.5074\n",
      "Epoch 67/100\n",
      "103/103 [==============================] - 0s 952us/step - loss: 48.5673\n",
      "Epoch 68/100\n",
      "103/103 [==============================] - 0s 935us/step - loss: 48.7187\n",
      "Epoch 69/100\n",
      "103/103 [==============================] - 0s 875us/step - loss: 48.9807\n",
      "Epoch 70/100\n",
      "103/103 [==============================] - 0s 817us/step - loss: 46.6488\n",
      "Epoch 71/100\n",
      "103/103 [==============================] - 0s 880us/step - loss: 48.6728\n",
      "Epoch 72/100\n",
      "103/103 [==============================] - 0s 851us/step - loss: 47.7912\n",
      "Epoch 73/100\n",
      "103/103 [==============================] - 0s 863us/step - loss: 47.9223\n",
      "Epoch 74/100\n",
      "103/103 [==============================] - 0s 921us/step - loss: 49.1217\n",
      "Epoch 75/100\n",
      "103/103 [==============================] - 0s 970us/step - loss: 47.3113\n",
      "Epoch 76/100\n",
      "103/103 [==============================] - 0s 901us/step - loss: 50.1231\n",
      "Epoch 77/100\n",
      "103/103 [==============================] - 0s 850us/step - loss: 47.3596\n",
      "Epoch 78/100\n",
      "103/103 [==============================] - 0s 853us/step - loss: 50.3272\n",
      "Epoch 79/100\n",
      "103/103 [==============================] - 0s 824us/step - loss: 48.2214\n",
      "Epoch 80/100\n",
      "103/103 [==============================] - 0s 889us/step - loss: 47.2261\n",
      "Epoch 81/100\n",
      "103/103 [==============================] - 0s 1ms/step - loss: 46.9655\n",
      "Epoch 82/100\n",
      "103/103 [==============================] - 0s 773us/step - loss: 45.9186\n",
      "Epoch 83/100\n",
      "103/103 [==============================] - 0s 729us/step - loss: 46.1656\n",
      "Epoch 84/100\n",
      "103/103 [==============================] - 0s 845us/step - loss: 48.2812\n",
      "Epoch 85/100\n",
      "103/103 [==============================] - 0s 892us/step - loss: 48.9366\n",
      "Epoch 86/100\n",
      "103/103 [==============================] - 0s 1ms/step - loss: 46.0064\n",
      "Epoch 87/100\n",
      "103/103 [==============================] - 0s 902us/step - loss: 47.6086\n",
      "Epoch 88/100\n",
      "103/103 [==============================] - 0s 738us/step - loss: 46.4104\n",
      "Epoch 89/100\n",
      "103/103 [==============================] - 0s 860us/step - loss: 46.5362\n",
      "Epoch 90/100\n",
      "103/103 [==============================] - 0s 855us/step - loss: 46.9061\n",
      "Epoch 91/100\n",
      "103/103 [==============================] - 0s 856us/step - loss: 47.0258\n",
      "Epoch 92/100\n",
      "103/103 [==============================] - 0s 996us/step - loss: 47.5876\n",
      "Epoch 93/100\n",
      "103/103 [==============================] - 0s 869us/step - loss: 49.5720\n",
      "Epoch 94/100\n",
      "103/103 [==============================] - 0s 864us/step - loss: 46.5759\n",
      "Epoch 95/100\n"
     ]
    },
    {
     "name": "stdout",
     "output_type": "stream",
     "text": [
      "103/103 [==============================] - 0s 945us/step - loss: 46.6001\n",
      "Epoch 96/100\n",
      "103/103 [==============================] - 0s 732us/step - loss: 46.4497\n",
      "Epoch 97/100\n",
      "103/103 [==============================] - 0s 761us/step - loss: 45.9527\n",
      "Epoch 98/100\n",
      "103/103 [==============================] - 0s 879us/step - loss: 47.5075\n",
      "Epoch 99/100\n",
      "103/103 [==============================] - 0s 833us/step - loss: 51.1340\n",
      "Epoch 100/100\n",
      "103/103 [==============================] - 0s 1ms/step - loss: 51.0922\n"
     ]
    },
    {
     "data": {
      "text/plain": [
       "<tensorflow.python.keras.callbacks.History at 0x1a5a75e8df0>"
      ]
     },
     "execution_count": 8,
     "metadata": {},
     "output_type": "execute_result"
    }
   ],
   "source": [
    "model.fit(x,y,epochs=100,batch_size=10)"
   ]
  },
  {
   "cell_type": "markdown",
   "id": "practical-boundary",
   "metadata": {},
   "source": [
    "# Predicting the model"
   ]
  },
  {
   "cell_type": "code",
   "execution_count": 9,
   "id": "national-terrorism",
   "metadata": {},
   "outputs": [
    {
     "data": {
      "text/plain": [
       "array([[25.07229 ],\n",
       "       [21.619337],\n",
       "       [31.282114],\n",
       "       ...,\n",
       "       [45.798264],\n",
       "       [43.349617],\n",
       "       [48.476955]], dtype=float32)"
      ]
     },
     "execution_count": 9,
     "metadata": {},
     "output_type": "execute_result"
    }
   ],
   "source": [
    "y_pred=model.predict(x)\n",
    "y_pred"
   ]
  },
  {
   "cell_type": "code",
   "execution_count": 10,
   "id": "sound-zoning",
   "metadata": {},
   "outputs": [
    {
     "data": {
      "text/plain": [
       "(1030,)"
      ]
     },
     "execution_count": 10,
     "metadata": {},
     "output_type": "execute_result"
    }
   ],
   "source": [
    "y.shape"
   ]
  },
  {
   "cell_type": "code",
   "execution_count": 11,
   "id": "olympic-technology",
   "metadata": {},
   "outputs": [
    {
     "data": {
      "text/plain": [
       "(1030, 1)"
      ]
     },
     "execution_count": 11,
     "metadata": {},
     "output_type": "execute_result"
    }
   ],
   "source": [
    "y_pred.shape"
   ]
  },
  {
   "cell_type": "code",
   "execution_count": 12,
   "id": "outstanding-victory",
   "metadata": {},
   "outputs": [
    {
     "data": {
      "text/plain": [
       "<matplotlib.collections.PathCollection at 0x1a5a8c39280>"
      ]
     },
     "execution_count": 12,
     "metadata": {},
     "output_type": "execute_result"
    },
    {
     "data": {
      "image/png": "[encoded data removed]",
      "text/plain": [
       "<Figure size 432x288 with 1 Axes>"
      ]
     },
     "metadata": {
      "needs_background": "light"
     },
     "output_type": "display_data"
    }
   ],
   "source": [
    "plt.scatter(y,y_pred)"
   ]
  },
  {
   "cell_type": "code",
   "execution_count": null,
   "id": "played-marijuana",
   "metadata": {},
   "outputs": [],
   "source": []
  }
 ],
 "metadata": {
  "kernelspec": {
   "display_name": "Python 3",
   "language": "python",
   "name": "python3"
  },
  "language_info": {
   "codemirror_mode": {
    "name": "ipython",
    "version": 3
   },
   "file_extension": ".py",
   "mimetype": "text/x-python",
   "name": "python",
   "nbconvert_exporter": "python",
   "pygments_lexer": "ipython3",
   "version": "3.8.3"
  }
 },
 "nbformat": 4,
 "nbformat_minor": 5
}
