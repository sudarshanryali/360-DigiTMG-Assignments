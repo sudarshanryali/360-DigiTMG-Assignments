{
 "cells": [
  {
   "cell_type": "markdown",
   "id": "commercial-graham",
   "metadata": {},
   "source": [
    "# Importing Libraries"
   ]
  },
  {
   "cell_type": "code",
   "execution_count": 6,
   "id": "acute-pantyhose",
   "metadata": {},
   "outputs": [],
   "source": [
    "import numpy as np\n",
    "import pandas as pd\n",
    "\n",
    "from sklearn.feature_selection import RFE\n",
    "from sklearn.ensemble import ExtraTreesRegressor\n",
    "\n",
    "\n",
    "import matplotlib.pyplot as plt\n",
    "\n",
    "\n",
    "from sklearn.preprocessing import MinMaxScaler\n",
    "from sklearn.linear_model import LinearRegression\n",
    "from sklearn.linear_model import Ridge\n",
    "from sklearn.linear_model import Lasso\n",
    "from sklearn.linear_model import ElasticNet\n",
    "from sklearn.ensemble import BaggingRegressor\n",
    "from sklearn.ensemble import RandomForestRegressor\n",
    "from sklearn.ensemble import ExtraTreesRegressor\n",
    "from sklearn.tree import DecisionTreeRegressor\n",
    "from sklearn.neighbors import KNeighborsRegressor\n",
    "from sklearn.svm import SVR\n",
    "from sklearn.metrics import explained_variance_score\n",
    "from sklearn.metrics import mean_absolute_error\n"
   ]
  },
  {
   "cell_type": "markdown",
   "id": "selected-coach",
   "metadata": {},
   "source": [
    "# Importing Dataset"
   ]
  },
  {
   "cell_type": "code",
   "execution_count": 9,
   "id": "short-cover",
   "metadata": {},
   "outputs": [],
   "source": [
    "dataframe = pd.read_csv(\"fireforests.csv\")\n",
    "\n",
    "\n",
    "\n",
    "# Encode Data\n",
    "dataframe.month.replace(('jan','feb','mar','apr','may','jun','jul','aug','sep','oct','nov','dec'),(1,2,3,4,5,6,7,8,9,10,11,12), inplace=True)\n",
    "dataframe.day.replace(('mon','tue','wed','thu','fri','sat','sun'),(1,2,3,4,5,6,7), inplace=True)\n"
   ]
  },
  {
   "cell_type": "code",
   "execution_count": 10,
   "id": "circular-seating",
   "metadata": {},
   "outputs": [
    {
     "name": "stdout",
     "output_type": "stream",
     "text": [
      "Head:    month  day  FFMC   DMC     DC  ISI  temp  RH  wind  rain  ...  monthdec  \\\n",
      "0      3    5  86.2  26.2   94.3  5.1   8.2  51   6.7   0.0  ...         0   \n",
      "1     10    2  90.6  35.4  669.1  6.7  18.0  33   0.9   0.0  ...         0   \n",
      "2     10    6  90.6  43.7  686.9  6.7  14.6  33   1.3   0.0  ...         0   \n",
      "3      3    5  91.7  33.3   77.5  9.0   8.3  97   4.0   0.2  ...         0   \n",
      "4      3    7  89.3  51.3  102.2  9.6  11.4  99   1.8   0.0  ...         0   \n",
      "\n",
      "   monthfeb  monthjan  monthjul  monthjun  monthmar  monthmay  monthnov  \\\n",
      "0         0         0         0         0         1         0         0   \n",
      "1         0         0         0         0         0         0         0   \n",
      "2         0         0         0         0         0         0         0   \n",
      "3         0         0         0         0         1         0         0   \n",
      "4         0         0         0         0         1         0         0   \n",
      "\n",
      "   monthoct  monthsep  \n",
      "0         0         0  \n",
      "1         1         0  \n",
      "2         1         0  \n",
      "3         0         0  \n",
      "4         0         0  \n",
      "\n",
      "[5 rows x 30 columns]\n",
      "Statistical Description:             month         day        FFMC         DMC          DC         ISI  \\\n",
      "count  517.000000  517.000000  517.000000  517.000000  517.000000  517.000000   \n",
      "mean     7.475822    4.259188   90.644681  110.872340  547.940039    9.021663   \n",
      "std      2.275990    2.072929    5.520111   64.046482  248.066192    4.559477   \n",
      "min      1.000000    1.000000   18.700000    1.100000    7.900000    0.000000   \n",
      "25%      7.000000    2.000000   90.200000   68.600000  437.700000    6.500000   \n",
      "50%      8.000000    5.000000   91.600000  108.300000  664.200000    8.400000   \n",
      "75%      9.000000    6.000000   92.900000  142.400000  713.900000   10.800000   \n",
      "max     12.000000    7.000000   96.200000  291.300000  860.600000   56.100000   \n",
      "\n",
      "             temp          RH        wind        rain  ...    monthdec  \\\n",
      "count  517.000000  517.000000  517.000000  517.000000  ...  517.000000   \n",
      "mean    18.889168   44.288201    4.017602    0.021663  ...    0.017408   \n",
      "std      5.806625   16.317469    1.791653    0.295959  ...    0.130913   \n",
      "min      2.200000   15.000000    0.400000    0.000000  ...    0.000000   \n",
      "25%     15.500000   33.000000    2.700000    0.000000  ...    0.000000   \n",
      "50%     19.300000   42.000000    4.000000    0.000000  ...    0.000000   \n",
      "75%     22.800000   53.000000    4.900000    0.000000  ...    0.000000   \n",
      "max     33.300000  100.000000    9.400000    6.400000  ...    1.000000   \n",
      "\n",
      "         monthfeb    monthjan    monthjul    monthjun    monthmar    monthmay  \\\n",
      "count  517.000000  517.000000  517.000000  517.000000  517.000000  517.000000   \n",
      "mean     0.038685    0.003868    0.061896    0.032882    0.104449    0.003868   \n",
      "std      0.193029    0.062137    0.241199    0.178500    0.306138    0.062137   \n",
      "min      0.000000    0.000000    0.000000    0.000000    0.000000    0.000000   \n",
      "25%      0.000000    0.000000    0.000000    0.000000    0.000000    0.000000   \n",
      "50%      0.000000    0.000000    0.000000    0.000000    0.000000    0.000000   \n",
      "75%      0.000000    0.000000    0.000000    0.000000    0.000000    0.000000   \n",
      "max      1.000000    1.000000    1.000000    1.000000    1.000000    1.000000   \n",
      "\n",
      "         monthnov    monthoct    monthsep  \n",
      "count  517.000000  517.000000  517.000000  \n",
      "mean     0.001934    0.029014    0.332689  \n",
      "std      0.043980    0.168007    0.471632  \n",
      "min      0.000000    0.000000    0.000000  \n",
      "25%      0.000000    0.000000    0.000000  \n",
      "50%      0.000000    0.000000    0.000000  \n",
      "75%      0.000000    0.000000    1.000000  \n",
      "max      1.000000    1.000000    1.000000  \n",
      "\n",
      "[8 rows x 30 columns]\n"
     ]
    }
   ],
   "source": [
    "print(\"Head:\", dataframe.head())\n",
    "print(\"Statistical Description:\", dataframe.describe())\n"
   ]
  },
  {
   "cell_type": "code",
   "execution_count": 11,
   "id": "assisted-zambia",
   "metadata": {},
   "outputs": [
    {
     "name": "stdout",
     "output_type": "stream",
     "text": [
      "Shape: (517, 30)\n"
     ]
    }
   ],
   "source": [
    "print(\"Shape:\", dataframe.shape)"
   ]
  },
  {
   "cell_type": "code",
   "execution_count": 12,
   "id": "noted-citizenship",
   "metadata": {},
   "outputs": [
    {
     "name": "stdout",
     "output_type": "stream",
     "text": [
      "Data Types: month         int64\n",
      "day           int64\n",
      "FFMC        float64\n",
      "DMC         float64\n",
      "DC          float64\n",
      "ISI         float64\n",
      "temp        float64\n",
      "RH            int64\n",
      "wind        float64\n",
      "rain        float64\n",
      "area        float64\n",
      "dayfri        int64\n",
      "daymon        int64\n",
      "daysat        int64\n",
      "daysun        int64\n",
      "daythu        int64\n",
      "daytue        int64\n",
      "daywed        int64\n",
      "monthapr      int64\n",
      "monthaug      int64\n",
      "monthdec      int64\n",
      "monthfeb      int64\n",
      "monthjan      int64\n",
      "monthjul      int64\n",
      "monthjun      int64\n",
      "monthmar      int64\n",
      "monthmay      int64\n",
      "monthnov      int64\n",
      "monthoct      int64\n",
      "monthsep      int64\n",
      "dtype: object\n"
     ]
    }
   ],
   "source": [
    "print(\"Data Types:\", dataframe.dtypes)"
   ]
  },
  {
   "cell_type": "code",
   "execution_count": 13,
   "id": "alleged-adolescent",
   "metadata": {},
   "outputs": [
    {
     "name": "stdout",
     "output_type": "stream",
     "text": [
      "Correlation:              month       day      FFMC       DMC        DC       ISI  \\\n",
      "month     1.000000 -0.050837  0.291477  0.466645  0.868698  0.186597   \n",
      "day      -0.050837  1.000000 -0.041068  0.062870  0.000105  0.032909   \n",
      "FFMC      0.291477 -0.041068  1.000000  0.382619  0.330512  0.531805   \n",
      "DMC       0.466645  0.062870  0.382619  1.000000  0.682192  0.305128   \n",
      "DC        0.868698  0.000105  0.330512  0.682192  1.000000  0.229154   \n",
      "ISI       0.186597  0.032909  0.531805  0.305128  0.229154  1.000000   \n",
      "temp      0.368842  0.052190  0.431532  0.469594  0.496208  0.394287   \n",
      "RH       -0.095280  0.092151 -0.300995  0.073795 -0.039192 -0.132517   \n",
      "wind     -0.086368  0.032478 -0.028485 -0.105342 -0.203466  0.106826   \n",
      "rain      0.013438 -0.048340  0.056702  0.074790  0.035861  0.067668   \n",
      "area      0.056496  0.023226  0.040122  0.072994  0.049383  0.008258   \n",
      "dayfri   -0.028562  0.158676  0.019306 -0.012010 -0.004220  0.046695   \n",
      "daymon   -0.002941 -0.643220 -0.059396 -0.107921 -0.052993 -0.158601   \n",
      "daysat   -0.057580  0.370240 -0.019637 -0.003653 -0.035189 -0.038585   \n",
      "daysun   -0.009232  0.627944 -0.089517  0.025355 -0.001431 -0.003243   \n",
      "daythu    0.028940 -0.045775  0.071730  0.087672  0.051859 -0.022406   \n",
      "daytue    0.053072 -0.410043  0.011225  0.000016  0.028368  0.068610   \n",
      "daywed    0.031445 -0.207650  0.093908  0.017939  0.024803  0.125415   \n",
      "monthapr -0.203468  0.040473 -0.117199 -0.197543 -0.268211 -0.106478   \n",
      "monthaug  0.171362  0.049373  0.228103  0.497928  0.279361  0.334639   \n",
      "monthdec  0.264837 -0.095214 -0.137044 -0.176301 -0.105642 -0.162322   \n",
      "monthfeb -0.483099  0.028170 -0.281535 -0.317899 -0.399277 -0.249777   \n",
      "monthjan -0.177483  0.067430 -0.454771 -0.105647 -0.115064 -0.103588   \n",
      "monthjul -0.053753 -0.005016  0.031833 -0.001946 -0.100887  0.020982   \n",
      "monthjun -0.119681  0.013585 -0.040634 -0.050403 -0.186183  0.111516   \n",
      "monthmar -0.672248 -0.036634 -0.074327 -0.407404 -0.650427 -0.143520   \n",
      "monthmay -0.067855  0.037338 -0.037230 -0.081980 -0.114209 -0.060493   \n",
      "monthnov  0.068231 -0.048025 -0.088964 -0.074218 -0.078380 -0.076559   \n",
      "monthoct  0.191895 -0.032764 -0.005998 -0.187632  0.093279 -0.071154   \n",
      "monthsep  0.473304 -0.022955  0.076609  0.110907  0.531857 -0.068877   \n",
      "\n",
      "              temp        RH      wind      rain  ...  monthdec  monthfeb  \\\n",
      "month     0.368842 -0.095280 -0.086368  0.013438  ...  0.264837 -0.483099   \n",
      "day       0.052190  0.092151  0.032478 -0.048340  ... -0.095214  0.028170   \n",
      "FFMC      0.431532 -0.300995 -0.028485  0.056702  ... -0.137044 -0.281535   \n",
      "DMC       0.469594  0.073795 -0.105342  0.074790  ... -0.176301 -0.317899   \n",
      "DC        0.496208 -0.039192 -0.203466  0.035861  ... -0.105642 -0.399277   \n",
      "ISI       0.394287 -0.132517  0.106826  0.067668  ... -0.162322 -0.249777   \n",
      "temp      1.000000 -0.527390 -0.227116  0.069491  ... -0.329648 -0.320015   \n",
      "RH       -0.527390  1.000000  0.069410  0.099751  ... -0.047714  0.140430   \n",
      "wind     -0.227116  0.069410  1.000000  0.061119  ...  0.269702 -0.029431   \n",
      "rain      0.069491  0.099751  0.061119  1.000000  ... -0.009752 -0.014698   \n",
      "area      0.097844 -0.075519  0.012317 -0.007366  ...  0.001010 -0.020732   \n",
      "dayfri   -0.071949  0.064506  0.118090 -0.004261  ... -0.019140  0.046323   \n",
      "daymon   -0.136529  0.009376 -0.063881 -0.029945  ...  0.114519  0.003933   \n",
      "daysat    0.034899 -0.023869 -0.063799 -0.032271  ... -0.058625  0.020406   \n",
      "daysun    0.014403  0.136220  0.027981 -0.017872  ... -0.024966  0.008416   \n",
      "daythu    0.051432 -0.123061 -0.062553 -0.026798  ... -0.002838 -0.042278   \n",
      "daytue    0.035630 -0.014211  0.053396  0.139311  ... -0.005125 -0.014491   \n",
      "daywed    0.090580 -0.087508 -0.019965 -0.020744  ...  0.002899 -0.035713   \n",
      "monthapr -0.157051  0.021235  0.048266 -0.009752  ... -0.017717 -0.026701   \n",
      "monthaug  0.351404  0.054761  0.028577  0.093101  ... -0.098941 -0.149116   \n",
      "monthdec -0.329648 -0.047714  0.269702 -0.009752  ...  1.000000 -0.026701   \n",
      "monthfeb -0.320015  0.140430 -0.029431 -0.014698  ... -0.026701  1.000000   \n",
      "monthjan -0.146520  0.170923 -0.070245 -0.004566  ... -0.008295 -0.012501   \n",
      "monthjul  0.142588  0.013185 -0.040645 -0.013390  ... -0.034190 -0.051528   \n",
      "monthjun  0.051015  0.009382  0.012124 -0.013510  ... -0.024543 -0.036989   \n",
      "monthmar -0.341797 -0.089836  0.181433 -0.020744  ... -0.045456 -0.068508   \n",
      "monthmay -0.045540  0.086822  0.015054 -0.004566  ... -0.008295 -0.012501   \n",
      "monthnov -0.053798 -0.035885  0.011864 -0.003225  ... -0.005860 -0.008831   \n",
      "monthoct -0.053513 -0.072334 -0.053850 -0.012665  ... -0.023008 -0.034676   \n",
      "monthsep  0.088006 -0.062596 -0.181476 -0.051733  ... -0.093982 -0.141642   \n",
      "\n",
      "          monthjan  monthjul  monthjun  monthmar  monthmay  monthnov  \\\n",
      "month    -0.177483 -0.053753 -0.119681 -0.672248 -0.067855  0.068231   \n",
      "day       0.067430 -0.005016  0.013585 -0.036634  0.037338 -0.048025   \n",
      "FFMC     -0.454771  0.031833 -0.040634 -0.074327 -0.037230 -0.088964   \n",
      "DMC      -0.105647 -0.001946 -0.050403 -0.407404 -0.081980 -0.074218   \n",
      "DC       -0.115064 -0.100887 -0.186183 -0.650427 -0.114209 -0.078380   \n",
      "ISI      -0.103588  0.020982  0.111516 -0.143520 -0.060493 -0.076559   \n",
      "temp     -0.146520  0.142588  0.051015 -0.341797 -0.045540 -0.053798   \n",
      "RH        0.170923  0.013185  0.009382 -0.089836  0.086822 -0.035885   \n",
      "wind     -0.070245 -0.040645  0.012124  0.181433  0.015054  0.011864   \n",
      "rain     -0.004566 -0.013390 -0.013510 -0.020744 -0.004566 -0.003225   \n",
      "area     -0.012589  0.006149 -0.020314 -0.045596  0.006264 -0.008893   \n",
      "dayfri   -0.027643 -0.048969  0.006000  0.036205  0.056423 -0.019527   \n",
      "daymon   -0.025470 -0.013300  0.017553  0.077125 -0.025470 -0.017992   \n",
      "daysat    0.057019  0.060945 -0.022408  0.021024  0.057019 -0.019390   \n",
      "daysun    0.050887 -0.018241  0.024540 -0.047726 -0.029568 -0.020887   \n",
      "daythu   -0.022793 -0.019300 -0.000195 -0.026885 -0.022793 -0.016101   \n",
      "daytue   -0.023424  0.049688 -0.069308 -0.032351 -0.023424  0.117121   \n",
      "daywed   -0.021282 -0.008985  0.043422 -0.033917 -0.021282 -0.015034   \n",
      "monthapr -0.008295 -0.034190 -0.024543 -0.045456 -0.008295 -0.005860   \n",
      "monthaug -0.046323 -0.190937 -0.137065 -0.253859 -0.046323 -0.032724   \n",
      "monthdec -0.008295 -0.034190 -0.024543 -0.045456 -0.008295 -0.005860   \n",
      "monthfeb -0.012501 -0.051528 -0.036989 -0.068508 -0.012501 -0.008831   \n",
      "monthjan  1.000000 -0.016007 -0.011491 -0.021282 -0.003883 -0.002743   \n",
      "monthjul -0.016007  1.000000 -0.047363 -0.087722 -0.016007 -0.011308   \n",
      "monthjun -0.011491 -0.047363  1.000000 -0.062972 -0.011491 -0.008117   \n",
      "monthmar -0.021282 -0.087722 -0.062972  1.000000 -0.021282 -0.015034   \n",
      "monthmay -0.003883 -0.016007 -0.011491 -0.021282  1.000000 -0.002743   \n",
      "monthnov -0.002743 -0.011308 -0.008117 -0.015034 -0.002743  1.000000   \n",
      "monthoct -0.010772 -0.044402 -0.031874 -0.059034 -0.010772 -0.007610   \n",
      "monthsep -0.044001 -0.181367 -0.130195 -0.241135 -0.044001 -0.031083   \n",
      "\n",
      "          monthoct  monthsep  \n",
      "month     0.191895  0.473304  \n",
      "day      -0.032764 -0.022955  \n",
      "FFMC     -0.005998  0.076609  \n",
      "DMC      -0.187632  0.110907  \n",
      "DC        0.093279  0.531857  \n",
      "ISI      -0.071154 -0.068877  \n",
      "temp     -0.053513  0.088006  \n",
      "RH       -0.072334 -0.062596  \n",
      "wind     -0.053850 -0.181476  \n",
      "rain     -0.012665 -0.051733  \n",
      "area     -0.016878  0.056573  \n",
      "dayfri   -0.045585  0.107671  \n",
      "daymon    0.060975  0.039632  \n",
      "daysat    0.017584 -0.032783  \n",
      "daysun    0.007252 -0.048817  \n",
      "daythu   -0.063223  0.008984  \n",
      "daytue    0.005008 -0.028570  \n",
      "daywed    0.016325 -0.053222  \n",
      "monthapr -0.023008 -0.093982  \n",
      "monthaug -0.128493 -0.524858  \n",
      "monthdec -0.023008 -0.093982  \n",
      "monthfeb -0.034676 -0.141642  \n",
      "monthjan -0.010772 -0.044001  \n",
      "monthjul -0.044402 -0.181367  \n",
      "monthjun -0.031874 -0.130195  \n",
      "monthmar -0.059034 -0.241135  \n",
      "monthmay -0.010772 -0.044001  \n",
      "monthnov -0.007610 -0.031083  \n",
      "monthoct  1.000000 -0.122053  \n",
      "monthsep -0.122053  1.000000  \n",
      "\n",
      "[30 rows x 30 columns]\n"
     ]
    }
   ],
   "source": [
    "print(\"Correlation:\", dataframe.corr(method='pearson'))\n"
   ]
  },
  {
   "cell_type": "code",
   "execution_count": 14,
   "id": "bearing-installation",
   "metadata": {},
   "outputs": [],
   "source": [
    "dataset = dataframe.values\n",
    "\n",
    "\n",
    "X = dataset[:,0:12]\n",
    "Y = dataset[:,12]\n"
   ]
  },
  {
   "cell_type": "code",
   "execution_count": 15,
   "id": "elementary-burner",
   "metadata": {},
   "outputs": [
    {
     "name": "stderr",
     "output_type": "stream",
     "text": [
      "D:\\Anaconda\\lib\\site-packages\\sklearn\\utils\\validation.py:67: FutureWarning: Pass n_features_to_select=3 as keyword args. From version 0.25 passing these as positional arguments will result in an error\n",
      "  warnings.warn(\"Pass {} as keyword args. From version 0.25 \"\n"
     ]
    },
    {
     "name": "stdout",
     "output_type": "stream",
     "text": [
      "Number of Features:  3\n",
      "Selected Features:  [False  True False False False False False False False False  True  True]\n",
      "Feature Ranking:  [10  1  8  9  7  6  5  4  3  2  1  1]\n"
     ]
    }
   ],
   "source": [
    "model = ExtraTreesRegressor()\n",
    "rfe = RFE(model, 3)\n",
    "fit = rfe.fit(X, Y)\n",
    "\n",
    "print(\"Number of Features: \", fit.n_features_)\n",
    "print(\"Selected Features: \", fit.support_)\n",
    "print(\"Feature Ranking: \", fit.ranking_) \n"
   ]
  },
  {
   "cell_type": "code",
   "execution_count": 16,
   "id": "digital-complaint",
   "metadata": {},
   "outputs": [
    {
     "data": {
      "text/plain": [
       "(array([508.,   6.,   1.,   0.,   0.,   0.,   1.,   0.,   0.,   1.]),\n",
       " array([   0.   ,  109.084,  218.168,  327.252,  436.336,  545.42 ,\n",
       "         654.504,  763.588,  872.672,  981.756, 1090.84 ]),\n",
       " <BarContainer object of 10 artists>)"
      ]
     },
     "execution_count": 16,
     "metadata": {},
     "output_type": "execute_result"
    },
    {
     "data": {
      "image/png": "[encoded data removed]",
      "text/plain": [
       "<Figure size 432x288 with 1 Axes>"
      ]
     },
     "metadata": {
      "needs_background": "light"
     },
     "output_type": "display_data"
    }
   ],
   "source": [
    "plt.hist((dataframe.area))\n"
   ]
  },
  {
   "cell_type": "code",
   "execution_count": 17,
   "id": "polish-projection",
   "metadata": {},
   "outputs": [
    {
     "data": {
      "text/plain": [
       "array([[<AxesSubplot:title={'center':'month'}>,\n",
       "        <AxesSubplot:title={'center':'day'}>,\n",
       "        <AxesSubplot:title={'center':'FFMC'}>,\n",
       "        <AxesSubplot:title={'center':'DMC'}>,\n",
       "        <AxesSubplot:title={'center':'DC'}>],\n",
       "       [<AxesSubplot:title={'center':'ISI'}>,\n",
       "        <AxesSubplot:title={'center':'temp'}>,\n",
       "        <AxesSubplot:title={'center':'RH'}>,\n",
       "        <AxesSubplot:title={'center':'wind'}>,\n",
       "        <AxesSubplot:title={'center':'rain'}>],\n",
       "       [<AxesSubplot:title={'center':'area'}>,\n",
       "        <AxesSubplot:title={'center':'dayfri'}>,\n",
       "        <AxesSubplot:title={'center':'daymon'}>,\n",
       "        <AxesSubplot:title={'center':'daysat'}>,\n",
       "        <AxesSubplot:title={'center':'daysun'}>],\n",
       "       [<AxesSubplot:title={'center':'daythu'}>,\n",
       "        <AxesSubplot:title={'center':'daytue'}>,\n",
       "        <AxesSubplot:title={'center':'daywed'}>,\n",
       "        <AxesSubplot:title={'center':'monthapr'}>,\n",
       "        <AxesSubplot:title={'center':'monthaug'}>],\n",
       "       [<AxesSubplot:title={'center':'monthdec'}>,\n",
       "        <AxesSubplot:title={'center':'monthfeb'}>,\n",
       "        <AxesSubplot:title={'center':'monthjan'}>,\n",
       "        <AxesSubplot:title={'center':'monthjul'}>,\n",
       "        <AxesSubplot:title={'center':'monthjun'}>],\n",
       "       [<AxesSubplot:title={'center':'monthmar'}>,\n",
       "        <AxesSubplot:title={'center':'monthmay'}>,\n",
       "        <AxesSubplot:title={'center':'monthnov'}>,\n",
       "        <AxesSubplot:title={'center':'monthoct'}>,\n",
       "        <AxesSubplot:title={'center':'monthsep'}>]], dtype=object)"
      ]
     },
     "execution_count": 17,
     "metadata": {},
     "output_type": "execute_result"
    },
    {
     "data": {
      "image/png": "[encoded data removed]",
      "text/plain": [
       "<Figure size 432x288 with 30 Axes>"
      ]
     },
     "metadata": {
      "needs_background": "light"
     },
     "output_type": "display_data"
    }
   ],
   "source": [
    "dataframe.hist()"
   ]
  },
  {
   "cell_type": "code",
   "execution_count": 18,
   "id": "satellite-discretion",
   "metadata": {},
   "outputs": [
    {
     "ename": "ValueError",
     "evalue": "Layout of 4x4 must be larger than required size 30",
     "output_type": "error",
     "traceback": [
      "\u001b[1;31m---------------------------------------------------------------------------\u001b[0m",
      "\u001b[1;31mValueError\u001b[0m                                Traceback (most recent call last)",
      "\u001b[1;32m<ipython-input-18-34830dd66d6f>\u001b[0m in \u001b[0;36m<module>\u001b[1;34m\u001b[0m\n\u001b[1;32m----> 1\u001b[1;33m \u001b[0mdataframe\u001b[0m\u001b[1;33m.\u001b[0m\u001b[0mplot\u001b[0m\u001b[1;33m(\u001b[0m\u001b[0mkind\u001b[0m\u001b[1;33m=\u001b[0m\u001b[1;34m'density'\u001b[0m\u001b[1;33m,\u001b[0m \u001b[0msubplots\u001b[0m\u001b[1;33m=\u001b[0m\u001b[1;32mTrue\u001b[0m\u001b[1;33m,\u001b[0m \u001b[0mlayout\u001b[0m\u001b[1;33m=\u001b[0m\u001b[1;33m(\u001b[0m\u001b[1;36m4\u001b[0m\u001b[1;33m,\u001b[0m\u001b[1;36m4\u001b[0m\u001b[1;33m)\u001b[0m\u001b[1;33m,\u001b[0m \u001b[0msharex\u001b[0m\u001b[1;33m=\u001b[0m\u001b[1;32mFalse\u001b[0m\u001b[1;33m,\u001b[0m \u001b[0msharey\u001b[0m\u001b[1;33m=\u001b[0m\u001b[1;32mFalse\u001b[0m\u001b[1;33m)\u001b[0m\u001b[1;33m\u001b[0m\u001b[1;33m\u001b[0m\u001b[0m\n\u001b[0m",
      "\u001b[1;32mD:\\Anaconda\\lib\\site-packages\\pandas\\plotting\\_core.py\u001b[0m in \u001b[0;36m__call__\u001b[1;34m(self, *args, **kwargs)\u001b[0m\n\u001b[0;32m    947\u001b[0m                     \u001b[0mdata\u001b[0m\u001b[1;33m.\u001b[0m\u001b[0mcolumns\u001b[0m \u001b[1;33m=\u001b[0m \u001b[0mlabel_name\u001b[0m\u001b[1;33m\u001b[0m\u001b[1;33m\u001b[0m\u001b[0m\n\u001b[0;32m    948\u001b[0m \u001b[1;33m\u001b[0m\u001b[0m\n\u001b[1;32m--> 949\u001b[1;33m         \u001b[1;32mreturn\u001b[0m \u001b[0mplot_backend\u001b[0m\u001b[1;33m.\u001b[0m\u001b[0mplot\u001b[0m\u001b[1;33m(\u001b[0m\u001b[0mdata\u001b[0m\u001b[1;33m,\u001b[0m \u001b[0mkind\u001b[0m\u001b[1;33m=\u001b[0m\u001b[0mkind\u001b[0m\u001b[1;33m,\u001b[0m \u001b[1;33m**\u001b[0m\u001b[0mkwargs\u001b[0m\u001b[1;33m)\u001b[0m\u001b[1;33m\u001b[0m\u001b[1;33m\u001b[0m\u001b[0m\n\u001b[0m\u001b[0;32m    950\u001b[0m \u001b[1;33m\u001b[0m\u001b[0m\n\u001b[0;32m    951\u001b[0m     \u001b[0m__call__\u001b[0m\u001b[1;33m.\u001b[0m\u001b[0m__doc__\u001b[0m \u001b[1;33m=\u001b[0m \u001b[0m__doc__\u001b[0m\u001b[1;33m\u001b[0m\u001b[1;33m\u001b[0m\u001b[0m\n",
      "\u001b[1;32mD:\\Anaconda\\lib\\site-packages\\pandas\\plotting\\_matplotlib\\__init__.py\u001b[0m in \u001b[0;36mplot\u001b[1;34m(data, kind, **kwargs)\u001b[0m\n\u001b[0;32m     59\u001b[0m             \u001b[0mkwargs\u001b[0m\u001b[1;33m[\u001b[0m\u001b[1;34m\"ax\"\u001b[0m\u001b[1;33m]\u001b[0m \u001b[1;33m=\u001b[0m \u001b[0mgetattr\u001b[0m\u001b[1;33m(\u001b[0m\u001b[0max\u001b[0m\u001b[1;33m,\u001b[0m \u001b[1;34m\"left_ax\"\u001b[0m\u001b[1;33m,\u001b[0m \u001b[0max\u001b[0m\u001b[1;33m)\u001b[0m\u001b[1;33m\u001b[0m\u001b[1;33m\u001b[0m\u001b[0m\n\u001b[0;32m     60\u001b[0m     \u001b[0mplot_obj\u001b[0m \u001b[1;33m=\u001b[0m \u001b[0mPLOT_CLASSES\u001b[0m\u001b[1;33m[\u001b[0m\u001b[0mkind\u001b[0m\u001b[1;33m]\u001b[0m\u001b[1;33m(\u001b[0m\u001b[0mdata\u001b[0m\u001b[1;33m,\u001b[0m \u001b[1;33m**\u001b[0m\u001b[0mkwargs\u001b[0m\u001b[1;33m)\u001b[0m\u001b[1;33m\u001b[0m\u001b[1;33m\u001b[0m\u001b[0m\n\u001b[1;32m---> 61\u001b[1;33m     \u001b[0mplot_obj\u001b[0m\u001b[1;33m.\u001b[0m\u001b[0mgenerate\u001b[0m\u001b[1;33m(\u001b[0m\u001b[1;33m)\u001b[0m\u001b[1;33m\u001b[0m\u001b[1;33m\u001b[0m\u001b[0m\n\u001b[0m\u001b[0;32m     62\u001b[0m     \u001b[0mplot_obj\u001b[0m\u001b[1;33m.\u001b[0m\u001b[0mdraw\u001b[0m\u001b[1;33m(\u001b[0m\u001b[1;33m)\u001b[0m\u001b[1;33m\u001b[0m\u001b[1;33m\u001b[0m\u001b[0m\n\u001b[0;32m     63\u001b[0m     \u001b[1;32mreturn\u001b[0m \u001b[0mplot_obj\u001b[0m\u001b[1;33m.\u001b[0m\u001b[0mresult\u001b[0m\u001b[1;33m\u001b[0m\u001b[1;33m\u001b[0m\u001b[0m\n",
      "\u001b[1;32mD:\\Anaconda\\lib\\site-packages\\pandas\\plotting\\_matplotlib\\core.py\u001b[0m in \u001b[0;36mgenerate\u001b[1;34m(self)\u001b[0m\n\u001b[0;32m    268\u001b[0m         \u001b[0mself\u001b[0m\u001b[1;33m.\u001b[0m\u001b[0m_args_adjust\u001b[0m\u001b[1;33m(\u001b[0m\u001b[1;33m)\u001b[0m\u001b[1;33m\u001b[0m\u001b[1;33m\u001b[0m\u001b[0m\n\u001b[0;32m    269\u001b[0m         \u001b[0mself\u001b[0m\u001b[1;33m.\u001b[0m\u001b[0m_compute_plot_data\u001b[0m\u001b[1;33m(\u001b[0m\u001b[1;33m)\u001b[0m\u001b[1;33m\u001b[0m\u001b[1;33m\u001b[0m\u001b[0m\n\u001b[1;32m--> 270\u001b[1;33m         \u001b[0mself\u001b[0m\u001b[1;33m.\u001b[0m\u001b[0m_setup_subplots\u001b[0m\u001b[1;33m(\u001b[0m\u001b[1;33m)\u001b[0m\u001b[1;33m\u001b[0m\u001b[1;33m\u001b[0m\u001b[0m\n\u001b[0m\u001b[0;32m    271\u001b[0m         \u001b[0mself\u001b[0m\u001b[1;33m.\u001b[0m\u001b[0m_make_plot\u001b[0m\u001b[1;33m(\u001b[0m\u001b[1;33m)\u001b[0m\u001b[1;33m\u001b[0m\u001b[1;33m\u001b[0m\u001b[0m\n\u001b[0;32m    272\u001b[0m         \u001b[0mself\u001b[0m\u001b[1;33m.\u001b[0m\u001b[0m_add_table\u001b[0m\u001b[1;33m(\u001b[0m\u001b[1;33m)\u001b[0m\u001b[1;33m\u001b[0m\u001b[1;33m\u001b[0m\u001b[0m\n",
      "\u001b[1;32mD:\\Anaconda\\lib\\site-packages\\pandas\\plotting\\_matplotlib\\core.py\u001b[0m in \u001b[0;36m_setup_subplots\u001b[1;34m(self)\u001b[0m\n\u001b[0;32m    315\u001b[0m     \u001b[1;32mdef\u001b[0m \u001b[0m_setup_subplots\u001b[0m\u001b[1;33m(\u001b[0m\u001b[0mself\u001b[0m\u001b[1;33m)\u001b[0m\u001b[1;33m:\u001b[0m\u001b[1;33m\u001b[0m\u001b[1;33m\u001b[0m\u001b[0m\n\u001b[0;32m    316\u001b[0m         \u001b[1;32mif\u001b[0m \u001b[0mself\u001b[0m\u001b[1;33m.\u001b[0m\u001b[0msubplots\u001b[0m\u001b[1;33m:\u001b[0m\u001b[1;33m\u001b[0m\u001b[1;33m\u001b[0m\u001b[0m\n\u001b[1;32m--> 317\u001b[1;33m             fig, axes = _subplots(\n\u001b[0m\u001b[0;32m    318\u001b[0m                 \u001b[0mnaxes\u001b[0m\u001b[1;33m=\u001b[0m\u001b[0mself\u001b[0m\u001b[1;33m.\u001b[0m\u001b[0mnseries\u001b[0m\u001b[1;33m,\u001b[0m\u001b[1;33m\u001b[0m\u001b[1;33m\u001b[0m\u001b[0m\n\u001b[0;32m    319\u001b[0m                 \u001b[0msharex\u001b[0m\u001b[1;33m=\u001b[0m\u001b[0mself\u001b[0m\u001b[1;33m.\u001b[0m\u001b[0msharex\u001b[0m\u001b[1;33m,\u001b[0m\u001b[1;33m\u001b[0m\u001b[1;33m\u001b[0m\u001b[0m\n",
      "\u001b[1;32mD:\\Anaconda\\lib\\site-packages\\pandas\\plotting\\_matplotlib\\tools.py\u001b[0m in \u001b[0;36m_subplots\u001b[1;34m(naxes, sharex, sharey, squeeze, subplot_kw, ax, layout, layout_type, **fig_kw)\u001b[0m\n\u001b[0;32m    223\u001b[0m             \u001b[0mfig\u001b[0m\u001b[1;33m.\u001b[0m\u001b[0mclear\u001b[0m\u001b[1;33m(\u001b[0m\u001b[1;33m)\u001b[0m\u001b[1;33m\u001b[0m\u001b[1;33m\u001b[0m\u001b[0m\n\u001b[0;32m    224\u001b[0m \u001b[1;33m\u001b[0m\u001b[0m\n\u001b[1;32m--> 225\u001b[1;33m     \u001b[0mnrows\u001b[0m\u001b[1;33m,\u001b[0m \u001b[0mncols\u001b[0m \u001b[1;33m=\u001b[0m \u001b[0m_get_layout\u001b[0m\u001b[1;33m(\u001b[0m\u001b[0mnaxes\u001b[0m\u001b[1;33m,\u001b[0m \u001b[0mlayout\u001b[0m\u001b[1;33m=\u001b[0m\u001b[0mlayout\u001b[0m\u001b[1;33m,\u001b[0m \u001b[0mlayout_type\u001b[0m\u001b[1;33m=\u001b[0m\u001b[0mlayout_type\u001b[0m\u001b[1;33m)\u001b[0m\u001b[1;33m\u001b[0m\u001b[1;33m\u001b[0m\u001b[0m\n\u001b[0m\u001b[0;32m    226\u001b[0m     \u001b[0mnplots\u001b[0m \u001b[1;33m=\u001b[0m \u001b[0mnrows\u001b[0m \u001b[1;33m*\u001b[0m \u001b[0mncols\u001b[0m\u001b[1;33m\u001b[0m\u001b[1;33m\u001b[0m\u001b[0m\n\u001b[0;32m    227\u001b[0m \u001b[1;33m\u001b[0m\u001b[0m\n",
      "\u001b[1;32mD:\\Anaconda\\lib\\site-packages\\pandas\\plotting\\_matplotlib\\tools.py\u001b[0m in \u001b[0;36m_get_layout\u001b[1;34m(nplots, layout, layout_type)\u001b[0m\n\u001b[0;32m     62\u001b[0m \u001b[1;33m\u001b[0m\u001b[0m\n\u001b[0;32m     63\u001b[0m         \u001b[1;32mif\u001b[0m \u001b[0mnrows\u001b[0m \u001b[1;33m*\u001b[0m \u001b[0mncols\u001b[0m \u001b[1;33m<\u001b[0m \u001b[0mnplots\u001b[0m\u001b[1;33m:\u001b[0m\u001b[1;33m\u001b[0m\u001b[1;33m\u001b[0m\u001b[0m\n\u001b[1;32m---> 64\u001b[1;33m             raise ValueError(\n\u001b[0m\u001b[0;32m     65\u001b[0m                 \u001b[1;34mf\"Layout of {nrows}x{ncols} must be larger than required size {nplots}\"\u001b[0m\u001b[1;33m\u001b[0m\u001b[1;33m\u001b[0m\u001b[0m\n\u001b[0;32m     66\u001b[0m             )\n",
      "\u001b[1;31mValueError\u001b[0m: Layout of 4x4 must be larger than required size 30"
     ]
    },
    {
     "data": {
      "text/plain": [
       "<Figure size 432x288 with 0 Axes>"
      ]
     },
     "metadata": {},
     "output_type": "display_data"
    }
   ],
   "source": [
    "dataframe.plot(kind='density', subplots=True, layout=(4,4), sharex=False, sharey=False)\n"
   ]
  },
  {
   "cell_type": "code",
   "execution_count": null,
   "id": "neither-recipe",
   "metadata": {},
   "outputs": [],
   "source": [
    "dataframe.plot(kind='box', subplots=True, layout=(4,4), sharex=False, sharey=False)\n"
   ]
  },
  {
   "cell_type": "code",
   "execution_count": 19,
   "id": "infrared-console",
   "metadata": {},
   "outputs": [
    {
     "ename": "NameError",
     "evalue": "name 'scatter_matrix' is not defined",
     "output_type": "error",
     "traceback": [
      "\u001b[1;31m---------------------------------------------------------------------------\u001b[0m",
      "\u001b[1;31mNameError\u001b[0m                                 Traceback (most recent call last)",
      "\u001b[1;32m<ipython-input-19-e5a556861e1e>\u001b[0m in \u001b[0;36m<module>\u001b[1;34m\u001b[0m\n\u001b[1;32m----> 1\u001b[1;33m \u001b[0mscatter_matrix\u001b[0m\u001b[1;33m(\u001b[0m\u001b[0mdataframe\u001b[0m\u001b[1;33m)\u001b[0m\u001b[1;33m\u001b[0m\u001b[1;33m\u001b[0m\u001b[0m\n\u001b[0m",
      "\u001b[1;31mNameError\u001b[0m: name 'scatter_matrix' is not defined"
     ]
    }
   ],
   "source": [
    "scatter_matrix(dataframe)\n"
   ]
  },
  {
   "cell_type": "code",
   "execution_count": 20,
   "id": "indie-administration",
   "metadata": {},
   "outputs": [
    {
     "ename": "ValueError",
     "evalue": "The number of FixedLocator locations (13), usually from a call to set_ticks, does not match the number of ticklabels (30).",
     "output_type": "error",
     "traceback": [
      "\u001b[1;31m---------------------------------------------------------------------------\u001b[0m",
      "\u001b[1;31mValueError\u001b[0m                                Traceback (most recent call last)",
      "\u001b[1;32m<ipython-input-20-465e2d3d6181>\u001b[0m in \u001b[0;36m<module>\u001b[1;34m\u001b[0m\n\u001b[0;32m      6\u001b[0m \u001b[0max\u001b[0m\u001b[1;33m.\u001b[0m\u001b[0mset_xticks\u001b[0m\u001b[1;33m(\u001b[0m\u001b[0mticks\u001b[0m\u001b[1;33m)\u001b[0m\u001b[1;33m\u001b[0m\u001b[1;33m\u001b[0m\u001b[0m\n\u001b[0;32m      7\u001b[0m \u001b[0max\u001b[0m\u001b[1;33m.\u001b[0m\u001b[0mset_yticks\u001b[0m\u001b[1;33m(\u001b[0m\u001b[0mticks\u001b[0m\u001b[1;33m)\u001b[0m\u001b[1;33m\u001b[0m\u001b[1;33m\u001b[0m\u001b[0m\n\u001b[1;32m----> 8\u001b[1;33m \u001b[0max\u001b[0m\u001b[1;33m.\u001b[0m\u001b[0mset_xticklabels\u001b[0m\u001b[1;33m(\u001b[0m\u001b[0mdataframe\u001b[0m\u001b[1;33m.\u001b[0m\u001b[0mcolumns\u001b[0m\u001b[1;33m)\u001b[0m\u001b[1;33m\u001b[0m\u001b[1;33m\u001b[0m\u001b[0m\n\u001b[0m\u001b[0;32m      9\u001b[0m \u001b[0max\u001b[0m\u001b[1;33m.\u001b[0m\u001b[0mset_yticklabels\u001b[0m\u001b[1;33m(\u001b[0m\u001b[0mdataframe\u001b[0m\u001b[1;33m.\u001b[0m\u001b[0mcolumns\u001b[0m\u001b[1;33m)\u001b[0m\u001b[1;33m\u001b[0m\u001b[1;33m\u001b[0m\u001b[0m\n",
      "\u001b[1;32mD:\\Anaconda\\lib\\site-packages\\matplotlib\\axes\\_base.py\u001b[0m in \u001b[0;36mwrapper\u001b[1;34m(self, *args, **kwargs)\u001b[0m\n\u001b[0;32m     61\u001b[0m \u001b[1;33m\u001b[0m\u001b[0m\n\u001b[0;32m     62\u001b[0m         \u001b[1;32mdef\u001b[0m \u001b[0mwrapper\u001b[0m\u001b[1;33m(\u001b[0m\u001b[0mself\u001b[0m\u001b[1;33m,\u001b[0m \u001b[1;33m*\u001b[0m\u001b[0margs\u001b[0m\u001b[1;33m,\u001b[0m \u001b[1;33m**\u001b[0m\u001b[0mkwargs\u001b[0m\u001b[1;33m)\u001b[0m\u001b[1;33m:\u001b[0m\u001b[1;33m\u001b[0m\u001b[1;33m\u001b[0m\u001b[0m\n\u001b[1;32m---> 63\u001b[1;33m             \u001b[1;32mreturn\u001b[0m \u001b[0mget_method\u001b[0m\u001b[1;33m(\u001b[0m\u001b[0mself\u001b[0m\u001b[1;33m)\u001b[0m\u001b[1;33m(\u001b[0m\u001b[1;33m*\u001b[0m\u001b[0margs\u001b[0m\u001b[1;33m,\u001b[0m \u001b[1;33m**\u001b[0m\u001b[0mkwargs\u001b[0m\u001b[1;33m)\u001b[0m\u001b[1;33m\u001b[0m\u001b[1;33m\u001b[0m\u001b[0m\n\u001b[0m\u001b[0;32m     64\u001b[0m \u001b[1;33m\u001b[0m\u001b[0m\n\u001b[0;32m     65\u001b[0m         \u001b[0mwrapper\u001b[0m\u001b[1;33m.\u001b[0m\u001b[0m__module__\u001b[0m \u001b[1;33m=\u001b[0m \u001b[0mowner\u001b[0m\u001b[1;33m.\u001b[0m\u001b[0m__module__\u001b[0m\u001b[1;33m\u001b[0m\u001b[1;33m\u001b[0m\u001b[0m\n",
      "\u001b[1;32mD:\\Anaconda\\lib\\site-packages\\matplotlib\\cbook\\deprecation.py\u001b[0m in \u001b[0;36mwrapper\u001b[1;34m(*args, **kwargs)\u001b[0m\n\u001b[0;32m    449\u001b[0m                 \u001b[1;34m\"parameter will become keyword-only %(removal)s.\"\u001b[0m\u001b[1;33m,\u001b[0m\u001b[1;33m\u001b[0m\u001b[1;33m\u001b[0m\u001b[0m\n\u001b[0;32m    450\u001b[0m                 name=name, obj_type=f\"parameter of {func.__name__}()\")\n\u001b[1;32m--> 451\u001b[1;33m         \u001b[1;32mreturn\u001b[0m \u001b[0mfunc\u001b[0m\u001b[1;33m(\u001b[0m\u001b[1;33m*\u001b[0m\u001b[0margs\u001b[0m\u001b[1;33m,\u001b[0m \u001b[1;33m**\u001b[0m\u001b[0mkwargs\u001b[0m\u001b[1;33m)\u001b[0m\u001b[1;33m\u001b[0m\u001b[1;33m\u001b[0m\u001b[0m\n\u001b[0m\u001b[0;32m    452\u001b[0m \u001b[1;33m\u001b[0m\u001b[0m\n\u001b[0;32m    453\u001b[0m     \u001b[1;32mreturn\u001b[0m \u001b[0mwrapper\u001b[0m\u001b[1;33m\u001b[0m\u001b[1;33m\u001b[0m\u001b[0m\n",
      "\u001b[1;32mD:\\Anaconda\\lib\\site-packages\\matplotlib\\axis.py\u001b[0m in \u001b[0;36m_set_ticklabels\u001b[1;34m(self, labels, fontdict, minor, **kwargs)\u001b[0m\n\u001b[0;32m   1791\u001b[0m         \u001b[1;32mif\u001b[0m \u001b[0mfontdict\u001b[0m \u001b[1;32mis\u001b[0m \u001b[1;32mnot\u001b[0m \u001b[1;32mNone\u001b[0m\u001b[1;33m:\u001b[0m\u001b[1;33m\u001b[0m\u001b[1;33m\u001b[0m\u001b[0m\n\u001b[0;32m   1792\u001b[0m             \u001b[0mkwargs\u001b[0m\u001b[1;33m.\u001b[0m\u001b[0mupdate\u001b[0m\u001b[1;33m(\u001b[0m\u001b[0mfontdict\u001b[0m\u001b[1;33m)\u001b[0m\u001b[1;33m\u001b[0m\u001b[1;33m\u001b[0m\u001b[0m\n\u001b[1;32m-> 1793\u001b[1;33m         \u001b[1;32mreturn\u001b[0m \u001b[0mself\u001b[0m\u001b[1;33m.\u001b[0m\u001b[0mset_ticklabels\u001b[0m\u001b[1;33m(\u001b[0m\u001b[0mlabels\u001b[0m\u001b[1;33m,\u001b[0m \u001b[0mminor\u001b[0m\u001b[1;33m=\u001b[0m\u001b[0mminor\u001b[0m\u001b[1;33m,\u001b[0m \u001b[1;33m**\u001b[0m\u001b[0mkwargs\u001b[0m\u001b[1;33m)\u001b[0m\u001b[1;33m\u001b[0m\u001b[1;33m\u001b[0m\u001b[0m\n\u001b[0m\u001b[0;32m   1794\u001b[0m \u001b[1;33m\u001b[0m\u001b[0m\n\u001b[0;32m   1795\u001b[0m     \u001b[1;33m@\u001b[0m\u001b[0mcbook\u001b[0m\u001b[1;33m.\u001b[0m\u001b[0m_make_keyword_only\u001b[0m\u001b[1;33m(\u001b[0m\u001b[1;34m\"3.2\"\u001b[0m\u001b[1;33m,\u001b[0m \u001b[1;34m\"minor\"\u001b[0m\u001b[1;33m)\u001b[0m\u001b[1;33m\u001b[0m\u001b[1;33m\u001b[0m\u001b[0m\n",
      "\u001b[1;32mD:\\Anaconda\\lib\\site-packages\\matplotlib\\axis.py\u001b[0m in \u001b[0;36mset_ticklabels\u001b[1;34m(self, ticklabels, minor, **kwargs)\u001b[0m\n\u001b[0;32m   1712\u001b[0m             \u001b[1;31m# remove all tick labels, so only error for > 0 ticklabels\u001b[0m\u001b[1;33m\u001b[0m\u001b[1;33m\u001b[0m\u001b[1;33m\u001b[0m\u001b[0m\n\u001b[0;32m   1713\u001b[0m             \u001b[1;32mif\u001b[0m \u001b[0mlen\u001b[0m\u001b[1;33m(\u001b[0m\u001b[0mlocator\u001b[0m\u001b[1;33m.\u001b[0m\u001b[0mlocs\u001b[0m\u001b[1;33m)\u001b[0m \u001b[1;33m!=\u001b[0m \u001b[0mlen\u001b[0m\u001b[1;33m(\u001b[0m\u001b[0mticklabels\u001b[0m\u001b[1;33m)\u001b[0m \u001b[1;32mand\u001b[0m \u001b[0mlen\u001b[0m\u001b[1;33m(\u001b[0m\u001b[0mticklabels\u001b[0m\u001b[1;33m)\u001b[0m \u001b[1;33m!=\u001b[0m \u001b[1;36m0\u001b[0m\u001b[1;33m:\u001b[0m\u001b[1;33m\u001b[0m\u001b[1;33m\u001b[0m\u001b[0m\n\u001b[1;32m-> 1714\u001b[1;33m                 raise ValueError(\n\u001b[0m\u001b[0;32m   1715\u001b[0m                     \u001b[1;34m\"The number of FixedLocator locations\"\u001b[0m\u001b[1;33m\u001b[0m\u001b[1;33m\u001b[0m\u001b[0m\n\u001b[0;32m   1716\u001b[0m                     \u001b[1;34mf\" ({len(locator.locs)}), usually from a call to\"\u001b[0m\u001b[1;33m\u001b[0m\u001b[1;33m\u001b[0m\u001b[0m\n",
      "\u001b[1;31mValueError\u001b[0m: The number of FixedLocator locations (13), usually from a call to set_ticks, does not match the number of ticklabels (30)."
     ]
    },
    {
     "data": {
      "image/png": "[encoded data removed]",
      "text/plain": [
       "<Figure size 432x288 with 2 Axes>"
      ]
     },
     "metadata": {
      "needs_background": "light"
     },
     "output_type": "display_data"
    }
   ],
   "source": [
    "fig = plt.figure()\n",
    "ax = fig.add_subplot(111)\n",
    "cax = ax.matshow(dataframe.corr(), vmin=-1, vmax=1)\n",
    "fig.colorbar(cax)\n",
    "ticks = numpy.arange(0,13,1)\n",
    "ax.set_xticks(ticks)\n",
    "ax.set_yticks(ticks)\n",
    "ax.set_xticklabels(dataframe.columns)\n",
    "ax.set_yticklabels(dataframe.columns)\n"
   ]
  },
  {
   "cell_type": "code",
   "execution_count": 21,
   "id": "configured-diagnosis",
   "metadata": {},
   "outputs": [
    {
     "name": "stdout",
     "output_type": "stream",
     "text": [
      "LiR: 0.447533 (0.201420)\n",
      "Ridge: 0.447531 (0.201400)\n",
      "Lasso: 0.009655 (0.243617)\n",
      "ElasticNet: 0.011149 (0.243027)\n",
      "Bag_Re: 1.000000 (0.000000)\n",
      "RandomForest: 1.000000 (0.000000)\n",
      "ExtraTreesRegressor: 1.000000 (0.000000)\n",
      "KNN: 0.389358 (0.148549)\n",
      "CART: 1.000000 (0.000000)\n",
      "SVM: 0.007164 (0.213090)\n"
     ]
    }
   ],
   "source": [
    "num_instances = len(X)\n",
    "\n",
    "models = []\n",
    "models.append(('LiR', LinearRegression()))\n",
    "models.append(('Ridge', Ridge()))\n",
    "models.append(('Lasso', Lasso()))\n",
    "models.append(('ElasticNet', ElasticNet()))\n",
    "models.append(('Bag_Re', BaggingRegressor()))\n",
    "models.append(('RandomForest', RandomForestRegressor()))\n",
    "models.append(('ExtraTreesRegressor', ExtraTreesRegressor()))\n",
    "models.append(('KNN', KNeighborsRegressor()))\n",
    "models.append(('CART', DecisionTreeRegressor()))\n",
    "models.append(('SVM', SVR()))\n",
    "\n",
    "# Evaluations\n",
    "results = []\n",
    "names = []\n",
    "scoring = []\n",
    "\n",
    "for name, model in models:\n",
    "    # Fit the model\n",
    "    model.fit(X, Y)\n",
    "    \n",
    "    predictions = model.predict(X)\n",
    "    \n",
    "    # Evaluate the model\n",
    "    score = explained_variance_score(Y, predictions)\n",
    "    mae = mean_absolute_error(predictions, Y)\n",
    "    # print(\"%s: %.2f%%\" % (model.metrics_names[1], scores[1]*100))\n",
    "    results.append(mae)\n",
    "    names.append(name)\n",
    "    \n",
    "    msg = \"%s: %f (%f)\" % (name, score, mae)\n",
    "    print(msg)\n"
   ]
  },
  {
   "cell_type": "code",
   "execution_count": 22,
   "id": "universal-westminster",
   "metadata": {},
   "outputs": [],
   "source": [
    "Y = numpy.array(Y).reshape((len(Y), 1))\n",
    "#Y.reshape(-1, 1)\n",
    "\n",
    "# normalize the dataset\n",
    "scaler = MinMaxScaler(feature_range=(0, 1))\n",
    "Y = scaler.fit_transform(Y)\n"
   ]
  },
  {
   "cell_type": "code",
   "execution_count": 23,
   "id": "specialized-snapshot",
   "metadata": {},
   "outputs": [
    {
     "ename": "NameError",
     "evalue": "name 'KerasRegressor' is not defined",
     "output_type": "error",
     "traceback": [
      "\u001b[1;31m---------------------------------------------------------------------------\u001b[0m",
      "\u001b[1;31mNameError\u001b[0m                                 Traceback (most recent call last)",
      "\u001b[1;32m<ipython-input-23-047609c7e843>\u001b[0m in \u001b[0;36m<module>\u001b[1;34m\u001b[0m\n\u001b[0;32m     19\u001b[0m \u001b[1;33m\u001b[0m\u001b[0m\n\u001b[0;32m     20\u001b[0m \u001b[1;31m# evaluate model with standardized dataset\u001b[0m\u001b[1;33m\u001b[0m\u001b[1;33m\u001b[0m\u001b[1;33m\u001b[0m\u001b[0m\n\u001b[1;32m---> 21\u001b[1;33m \u001b[0mestimator\u001b[0m \u001b[1;33m=\u001b[0m \u001b[0mKerasRegressor\u001b[0m\u001b[1;33m(\u001b[0m\u001b[0mbuild_fn\u001b[0m\u001b[1;33m=\u001b[0m\u001b[0mbaseline_model\u001b[0m\u001b[1;33m,\u001b[0m \u001b[0mnb_epoch\u001b[0m\u001b[1;33m=\u001b[0m\u001b[1;36m600\u001b[0m\u001b[1;33m,\u001b[0m \u001b[0mbatch_size\u001b[0m\u001b[1;33m=\u001b[0m\u001b[1;36m5\u001b[0m\u001b[1;33m,\u001b[0m \u001b[0mverbose\u001b[0m\u001b[1;33m=\u001b[0m\u001b[1;36m0\u001b[0m\u001b[1;33m)\u001b[0m\u001b[1;33m\u001b[0m\u001b[1;33m\u001b[0m\u001b[0m\n\u001b[0m\u001b[0;32m     22\u001b[0m \u001b[1;33m\u001b[0m\u001b[0m\n\u001b[0;32m     23\u001b[0m \u001b[0mkfold\u001b[0m \u001b[1;33m=\u001b[0m \u001b[0mKFold\u001b[0m\u001b[1;33m(\u001b[0m\u001b[0mn_splits\u001b[0m\u001b[1;33m=\u001b[0m\u001b[1;36m30\u001b[0m\u001b[1;33m,\u001b[0m \u001b[0mrandom_state\u001b[0m\u001b[1;33m=\u001b[0m\u001b[0mseed\u001b[0m\u001b[1;33m)\u001b[0m\u001b[1;33m\u001b[0m\u001b[1;33m\u001b[0m\u001b[0m\n",
      "\u001b[1;31mNameError\u001b[0m: name 'KerasRegressor' is not defined"
     ]
    }
   ],
   "source": [
    "def baseline_model():\n",
    "    # create model\n",
    "    model = Sequential()\n",
    "    model.add(Dense(10, input_dim=12, kernel_initializer='uniform', activation='relu'))\n",
    "    #model.add(Dropout(0.2))\n",
    "    #model.add(Dense(5, kernel_initializer='uniform', activation='relu', kernel_constraint=maxnorm(3)))\n",
    "    #model.add(Dropout(0.2))\n",
    "    model.add(Dense(3, kernel_initializer='uniform', activation='relu'))\n",
    "    model.add(Dense(1, kernel_initializer='uniform', activation='relu'))\n",
    "    \n",
    "    # compile model\n",
    "    model.compile(loss='mean_squared_error', optimizer='adam')\n",
    "    return model\n",
    "\n",
    "\n",
    "# fix random seed for reproducibility\n",
    "seed = 7\n",
    "numpy.random.seed(seed)\n",
    "\n",
    "# evaluate model with standardized dataset\n",
    "estimator = KerasRegressor(build_fn=baseline_model, nb_epoch=600, batch_size=5, verbose=0)\n",
    "\n",
    "kfold = KFold(n_splits=30, random_state=seed)\n",
    "results = cross_val_score(estimator, X, Y, cv=kfold)\n",
    "print(\"Results: %.2f (%.2f) MSE\" % (results.mean(), results.std()))\n"
   ]
  },
  {
   "cell_type": "code",
   "execution_count": null,
   "id": "advanced-paint",
   "metadata": {},
   "outputs": [],
   "source": []
  },
  {
   "cell_type": "code",
   "execution_count": null,
   "id": "obvious-updating",
   "metadata": {},
   "outputs": [],
   "source": []
  },
  {
   "cell_type": "code",
   "execution_count": null,
   "id": "legitimate-huntington",
   "metadata": {},
   "outputs": [],
   "source": []
  }
 ],
 "metadata": {
  "kernelspec": {
   "display_name": "Python 3",
   "language": "python",
   "name": "python3"
  },
  "language_info": {
   "codemirror_mode": {
    "name": "ipython",
    "version": 3
   },
   "file_extension": ".py",
   "mimetype": "text/x-python",
   "name": "python",
   "nbconvert_exporter": "python",
   "pygments_lexer": "ipython3",
   "version": "3.8.3"
  }
 },
 "nbformat": 4,
 "nbformat_minor": 5
}
