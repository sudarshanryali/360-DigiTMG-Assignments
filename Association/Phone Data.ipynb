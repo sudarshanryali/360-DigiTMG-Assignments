{
 "cells": [
  {
   "cell_type": "markdown",
   "id": "endangered-spotlight",
   "metadata": {},
   "source": [
    "# Importing Libraries"
   ]
  },
  {
   "cell_type": "code",
   "execution_count": 1,
   "id": "official-timing",
   "metadata": {},
   "outputs": [],
   "source": [
    "import pandas as pd\n",
    "from mlxtend.frequent_patterns import apriori, association_rules"
   ]
  },
  {
   "cell_type": "markdown",
   "id": "interesting-selection",
   "metadata": {},
   "source": [
    "# Loading the dataset"
   ]
  },
  {
   "cell_type": "code",
   "execution_count": 2,
   "id": "burning-newton",
   "metadata": {},
   "outputs": [
    {
     "data": {
      "text/html": [
       "<div>\n",
       "<style scoped>\n",
       "    .dataframe tbody tr th:only-of-type {\n",
       "        vertical-align: middle;\n",
       "    }\n",
       "\n",
       "    .dataframe tbody tr th {\n",
       "        vertical-align: top;\n",
       "    }\n",
       "\n",
       "    .dataframe thead th {\n",
       "        text-align: right;\n",
       "    }\n",
       "</style>\n",
       "<table border=\"1\" class=\"dataframe\">\n",
       "  <thead>\n",
       "    <tr style=\"text-align: right;\">\n",
       "      <th></th>\n",
       "      <th>V1</th>\n",
       "      <th>V2</th>\n",
       "      <th>V3</th>\n",
       "      <th>red</th>\n",
       "      <th>white</th>\n",
       "      <th>green</th>\n",
       "      <th>yellow</th>\n",
       "      <th>orange</th>\n",
       "      <th>blue</th>\n",
       "    </tr>\n",
       "  </thead>\n",
       "  <tbody>\n",
       "    <tr>\n",
       "      <th>0</th>\n",
       "      <td>red</td>\n",
       "      <td>white</td>\n",
       "      <td>green</td>\n",
       "      <td>1</td>\n",
       "      <td>1</td>\n",
       "      <td>1</td>\n",
       "      <td>0</td>\n",
       "      <td>0</td>\n",
       "      <td>0</td>\n",
       "    </tr>\n",
       "    <tr>\n",
       "      <th>1</th>\n",
       "      <td>white</td>\n",
       "      <td>orange</td>\n",
       "      <td>NaN</td>\n",
       "      <td>0</td>\n",
       "      <td>1</td>\n",
       "      <td>0</td>\n",
       "      <td>0</td>\n",
       "      <td>1</td>\n",
       "      <td>0</td>\n",
       "    </tr>\n",
       "    <tr>\n",
       "      <th>2</th>\n",
       "      <td>white</td>\n",
       "      <td>blue</td>\n",
       "      <td>NaN</td>\n",
       "      <td>0</td>\n",
       "      <td>1</td>\n",
       "      <td>0</td>\n",
       "      <td>0</td>\n",
       "      <td>0</td>\n",
       "      <td>1</td>\n",
       "    </tr>\n",
       "    <tr>\n",
       "      <th>3</th>\n",
       "      <td>red</td>\n",
       "      <td>white</td>\n",
       "      <td>orange</td>\n",
       "      <td>1</td>\n",
       "      <td>1</td>\n",
       "      <td>0</td>\n",
       "      <td>0</td>\n",
       "      <td>1</td>\n",
       "      <td>0</td>\n",
       "    </tr>\n",
       "    <tr>\n",
       "      <th>4</th>\n",
       "      <td>red</td>\n",
       "      <td>blue</td>\n",
       "      <td>NaN</td>\n",
       "      <td>1</td>\n",
       "      <td>0</td>\n",
       "      <td>0</td>\n",
       "      <td>0</td>\n",
       "      <td>0</td>\n",
       "      <td>1</td>\n",
       "    </tr>\n",
       "    <tr>\n",
       "      <th>5</th>\n",
       "      <td>white</td>\n",
       "      <td>blue</td>\n",
       "      <td>NaN</td>\n",
       "      <td>0</td>\n",
       "      <td>1</td>\n",
       "      <td>0</td>\n",
       "      <td>0</td>\n",
       "      <td>0</td>\n",
       "      <td>1</td>\n",
       "    </tr>\n",
       "    <tr>\n",
       "      <th>6</th>\n",
       "      <td>red</td>\n",
       "      <td>blue</td>\n",
       "      <td>NaN</td>\n",
       "      <td>1</td>\n",
       "      <td>0</td>\n",
       "      <td>0</td>\n",
       "      <td>0</td>\n",
       "      <td>0</td>\n",
       "      <td>1</td>\n",
       "    </tr>\n",
       "    <tr>\n",
       "      <th>7</th>\n",
       "      <td>red</td>\n",
       "      <td>white</td>\n",
       "      <td>blue</td>\n",
       "      <td>1</td>\n",
       "      <td>1</td>\n",
       "      <td>0</td>\n",
       "      <td>0</td>\n",
       "      <td>0</td>\n",
       "      <td>1</td>\n",
       "    </tr>\n",
       "    <tr>\n",
       "      <th>8</th>\n",
       "      <td>green</td>\n",
       "      <td>NaN</td>\n",
       "      <td>NaN</td>\n",
       "      <td>0</td>\n",
       "      <td>0</td>\n",
       "      <td>1</td>\n",
       "      <td>0</td>\n",
       "      <td>0</td>\n",
       "      <td>0</td>\n",
       "    </tr>\n",
       "    <tr>\n",
       "      <th>9</th>\n",
       "      <td>red</td>\n",
       "      <td>white</td>\n",
       "      <td>blue</td>\n",
       "      <td>1</td>\n",
       "      <td>1</td>\n",
       "      <td>0</td>\n",
       "      <td>0</td>\n",
       "      <td>0</td>\n",
       "      <td>1</td>\n",
       "    </tr>\n",
       "    <tr>\n",
       "      <th>10</th>\n",
       "      <td>yellow</td>\n",
       "      <td>NaN</td>\n",
       "      <td>NaN</td>\n",
       "      <td>0</td>\n",
       "      <td>0</td>\n",
       "      <td>0</td>\n",
       "      <td>1</td>\n",
       "      <td>0</td>\n",
       "      <td>0</td>\n",
       "    </tr>\n",
       "  </tbody>\n",
       "</table>\n",
       "</div>"
      ],
      "text/plain": [
       "        V1      V2      V3  red  white  green  yellow  orange  blue\n",
       "0      red   white   green    1      1      1       0       0     0\n",
       "1    white  orange     NaN    0      1      0       0       1     0\n",
       "2    white    blue     NaN    0      1      0       0       0     1\n",
       "3      red   white  orange    1      1      0       0       1     0\n",
       "4      red    blue     NaN    1      0      0       0       0     1\n",
       "5    white    blue     NaN    0      1      0       0       0     1\n",
       "6      red    blue     NaN    1      0      0       0       0     1\n",
       "7      red   white    blue    1      1      0       0       0     1\n",
       "8    green     NaN     NaN    0      0      1       0       0     0\n",
       "9      red   white    blue    1      1      0       0       0     1\n",
       "10  yellow     NaN     NaN    0      0      0       1       0     0"
      ]
     },
     "execution_count": 2,
     "metadata": {},
     "output_type": "execute_result"
    }
   ],
   "source": [
    "phone = pd.read_csv(\"C:\\\\Users\\\\DELL\\\\Association\\\\myphonedata.csv\")\n",
    "phone"
   ]
  },
  {
   "cell_type": "markdown",
   "id": "inside-comedy",
   "metadata": {},
   "source": [
    "# Removing the unwanted columns\n"
   ]
  },
  {
   "cell_type": "code",
   "execution_count": 3,
   "id": "color-concern",
   "metadata": {},
   "outputs": [
    {
     "data": {
      "text/html": [
       "<div>\n",
       "<style scoped>\n",
       "    .dataframe tbody tr th:only-of-type {\n",
       "        vertical-align: middle;\n",
       "    }\n",
       "\n",
       "    .dataframe tbody tr th {\n",
       "        vertical-align: top;\n",
       "    }\n",
       "\n",
       "    .dataframe thead th {\n",
       "        text-align: right;\n",
       "    }\n",
       "</style>\n",
       "<table border=\"1\" class=\"dataframe\">\n",
       "  <thead>\n",
       "    <tr style=\"text-align: right;\">\n",
       "      <th></th>\n",
       "      <th>red</th>\n",
       "      <th>white</th>\n",
       "      <th>green</th>\n",
       "      <th>yellow</th>\n",
       "      <th>orange</th>\n",
       "      <th>blue</th>\n",
       "    </tr>\n",
       "  </thead>\n",
       "  <tbody>\n",
       "    <tr>\n",
       "      <th>0</th>\n",
       "      <td>1</td>\n",
       "      <td>1</td>\n",
       "      <td>1</td>\n",
       "      <td>0</td>\n",
       "      <td>0</td>\n",
       "      <td>0</td>\n",
       "    </tr>\n",
       "    <tr>\n",
       "      <th>1</th>\n",
       "      <td>0</td>\n",
       "      <td>1</td>\n",
       "      <td>0</td>\n",
       "      <td>0</td>\n",
       "      <td>1</td>\n",
       "      <td>0</td>\n",
       "    </tr>\n",
       "    <tr>\n",
       "      <th>2</th>\n",
       "      <td>0</td>\n",
       "      <td>1</td>\n",
       "      <td>0</td>\n",
       "      <td>0</td>\n",
       "      <td>0</td>\n",
       "      <td>1</td>\n",
       "    </tr>\n",
       "    <tr>\n",
       "      <th>3</th>\n",
       "      <td>1</td>\n",
       "      <td>1</td>\n",
       "      <td>0</td>\n",
       "      <td>0</td>\n",
       "      <td>1</td>\n",
       "      <td>0</td>\n",
       "    </tr>\n",
       "    <tr>\n",
       "      <th>4</th>\n",
       "      <td>1</td>\n",
       "      <td>0</td>\n",
       "      <td>0</td>\n",
       "      <td>0</td>\n",
       "      <td>0</td>\n",
       "      <td>1</td>\n",
       "    </tr>\n",
       "    <tr>\n",
       "      <th>5</th>\n",
       "      <td>0</td>\n",
       "      <td>1</td>\n",
       "      <td>0</td>\n",
       "      <td>0</td>\n",
       "      <td>0</td>\n",
       "      <td>1</td>\n",
       "    </tr>\n",
       "    <tr>\n",
       "      <th>6</th>\n",
       "      <td>1</td>\n",
       "      <td>0</td>\n",
       "      <td>0</td>\n",
       "      <td>0</td>\n",
       "      <td>0</td>\n",
       "      <td>1</td>\n",
       "    </tr>\n",
       "    <tr>\n",
       "      <th>7</th>\n",
       "      <td>1</td>\n",
       "      <td>1</td>\n",
       "      <td>0</td>\n",
       "      <td>0</td>\n",
       "      <td>0</td>\n",
       "      <td>1</td>\n",
       "    </tr>\n",
       "    <tr>\n",
       "      <th>8</th>\n",
       "      <td>0</td>\n",
       "      <td>0</td>\n",
       "      <td>1</td>\n",
       "      <td>0</td>\n",
       "      <td>0</td>\n",
       "      <td>0</td>\n",
       "    </tr>\n",
       "    <tr>\n",
       "      <th>9</th>\n",
       "      <td>1</td>\n",
       "      <td>1</td>\n",
       "      <td>0</td>\n",
       "      <td>0</td>\n",
       "      <td>0</td>\n",
       "      <td>1</td>\n",
       "    </tr>\n",
       "    <tr>\n",
       "      <th>10</th>\n",
       "      <td>0</td>\n",
       "      <td>0</td>\n",
       "      <td>0</td>\n",
       "      <td>1</td>\n",
       "      <td>0</td>\n",
       "      <td>0</td>\n",
       "    </tr>\n",
       "  </tbody>\n",
       "</table>\n",
       "</div>"
      ],
      "text/plain": [
       "    red  white  green  yellow  orange  blue\n",
       "0     1      1      1       0       0     0\n",
       "1     0      1      0       0       1     0\n",
       "2     0      1      0       0       0     1\n",
       "3     1      1      0       0       1     0\n",
       "4     1      0      0       0       0     1\n",
       "5     0      1      0       0       0     1\n",
       "6     1      0      0       0       0     1\n",
       "7     1      1      0       0       0     1\n",
       "8     0      0      1       0       0     0\n",
       "9     1      1      0       0       0     1\n",
       "10    0      0      0       1       0     0"
      ]
     },
     "execution_count": 3,
     "metadata": {},
     "output_type": "execute_result"
    }
   ],
   "source": [
    "phone.drop(phone.iloc[: , 0:3],  inplace = True, axis = 1)\n",
    "phone"
   ]
  },
  {
   "cell_type": "markdown",
   "id": "exact-england",
   "metadata": {},
   "source": [
    "# Finding the frequent items"
   ]
  },
  {
   "cell_type": "code",
   "execution_count": 4,
   "id": "robust-infection",
   "metadata": {},
   "outputs": [
    {
     "data": {
      "text/plain": [
       "(16, 2)"
      ]
     },
     "execution_count": 4,
     "metadata": {},
     "output_type": "execute_result"
    }
   ],
   "source": [
    "frequent_itemsets = apriori(phone,min_support=0.005, max_len=3,use_colnames = True)\n",
    "frequent_itemsets.shape"
   ]
  },
  {
   "cell_type": "markdown",
   "id": "insured-child",
   "metadata": {},
   "source": [
    "# Most Frequent item sets based on support "
   ]
  },
  {
   "cell_type": "code",
   "execution_count": 5,
   "id": "excessive-favor",
   "metadata": {},
   "outputs": [],
   "source": [
    "frequent_itemsets.sort_values('support',ascending = False,inplace=True)"
   ]
  },
  {
   "cell_type": "code",
   "execution_count": 6,
   "id": "fallen-stock",
   "metadata": {},
   "outputs": [],
   "source": [
    "import matplotlib.pylab as plt"
   ]
  },
  {
   "cell_type": "code",
   "execution_count": 7,
   "id": "duplicate-indonesia",
   "metadata": {},
   "outputs": [
    {
     "name": "stderr",
     "output_type": "stream",
     "text": [
      "<ipython-input-7-86a3c60dc1e3>:1: MatplotlibDeprecationWarning: Using a string of single character colors as a color sequence is deprecated since 3.2 and will be removed two minor releases later. Use an explicit list instead.\n",
      "  plt.bar(x = list(range(1,6)),height = frequent_itemsets.support[1:6],color='rgmyk')\n"
     ]
    },
    {
     "data": {
      "text/plain": [
       "Text(0, 0.5, 'support')"
      ]
     },
     "execution_count": 7,
     "metadata": {},
     "output_type": "execute_result"
    },
    {
     "data": {
      "image/png": "[encoded data removed]",
      "text/plain": [
       "<Figure size 432x288 with 1 Axes>"
      ]
     },
     "metadata": {
      "needs_background": "light"
     },
     "output_type": "display_data"
    }
   ],
   "source": [
    "plt.bar(x = list(range(1,6)),height = frequent_itemsets.support[1:6],color='rgmyk')\n",
    "plt.xticks(list(range(1,6)),frequent_itemsets.itemsets[1:6])\n",
    "plt.xlabel('item-sets')\n",
    "plt.ylabel('support')"
   ]
  },
  {
   "cell_type": "code",
   "execution_count": 8,
   "id": "attended-order",
   "metadata": {},
   "outputs": [
    {
     "data": {
      "text/plain": [
       "(18, 9)"
      ]
     },
     "execution_count": 8,
     "metadata": {},
     "output_type": "execute_result"
    }
   ],
   "source": [
    "rules = association_rules(frequent_itemsets, metric=\"lift\", min_threshold=1)\n",
    "rules.shape"
   ]
  },
  {
   "cell_type": "code",
   "execution_count": 9,
   "id": "atomic-century",
   "metadata": {},
   "outputs": [],
   "source": [
    "rules.head(20)\n",
    "rules.sort_values('lift',ascending = False,inplace=True)"
   ]
  },
  {
   "cell_type": "code",
   "execution_count": 10,
   "id": "weird-forwarding",
   "metadata": {},
   "outputs": [],
   "source": [
    "#  To eliminate Redudancy in Rules"
   ]
  },
  {
   "cell_type": "code",
   "execution_count": 11,
   "id": "oriental-macintosh",
   "metadata": {},
   "outputs": [],
   "source": [
    "def to_list(i):\n",
    "    return (sorted(list(i)))"
   ]
  },
  {
   "cell_type": "code",
   "execution_count": 12,
   "id": "proof-criterion",
   "metadata": {},
   "outputs": [],
   "source": [
    "ma_X = rules.antecedents.apply(to_list)+rules.consequents.apply(to_list)"
   ]
  },
  {
   "cell_type": "code",
   "execution_count": 13,
   "id": "willing-stadium",
   "metadata": {},
   "outputs": [],
   "source": [
    "ma_X = ma_X.apply(sorted)"
   ]
  },
  {
   "cell_type": "code",
   "execution_count": 14,
   "id": "tracked-building",
   "metadata": {},
   "outputs": [],
   "source": [
    "rules_sets = list(ma_X)"
   ]
  },
  {
   "cell_type": "code",
   "execution_count": 15,
   "id": "flexible-friendly",
   "metadata": {},
   "outputs": [],
   "source": [
    "unique_rules_sets = [list(m) for m in set(tuple(i) for i in rules_sets)]\n",
    "index_rules = []\n",
    "for i in unique_rules_sets:\n",
    "    index_rules.append(rules_sets.index(i))"
   ]
  },
  {
   "cell_type": "code",
   "execution_count": 16,
   "id": "impressed-ferry",
   "metadata": {},
   "outputs": [],
   "source": [
    "# getting rules without any redudancy "
   ]
  },
  {
   "cell_type": "code",
   "execution_count": 17,
   "id": "bulgarian-prototype",
   "metadata": {},
   "outputs": [],
   "source": [
    "rules_no_redudancy  = rules.iloc[index_rules,:]"
   ]
  },
  {
   "cell_type": "code",
   "execution_count": 18,
   "id": "geographic-buffer",
   "metadata": {},
   "outputs": [],
   "source": [
    "# Sorting them with respect to list and getting top 10 rules "
   ]
  },
  {
   "cell_type": "code",
   "execution_count": 19,
   "id": "planned-award",
   "metadata": {},
   "outputs": [
    {
     "data": {
      "text/html": [
       "<div>\n",
       "<style scoped>\n",
       "    .dataframe tbody tr th:only-of-type {\n",
       "        vertical-align: middle;\n",
       "    }\n",
       "\n",
       "    .dataframe tbody tr th {\n",
       "        vertical-align: top;\n",
       "    }\n",
       "\n",
       "    .dataframe thead th {\n",
       "        text-align: right;\n",
       "    }\n",
       "</style>\n",
       "<table border=\"1\" class=\"dataframe\">\n",
       "  <thead>\n",
       "    <tr style=\"text-align: right;\">\n",
       "      <th></th>\n",
       "      <th>antecedents</th>\n",
       "      <th>consequents</th>\n",
       "      <th>antecedent support</th>\n",
       "      <th>consequent support</th>\n",
       "      <th>support</th>\n",
       "      <th>confidence</th>\n",
       "      <th>lift</th>\n",
       "      <th>leverage</th>\n",
       "      <th>conviction</th>\n",
       "    </tr>\n",
       "  </thead>\n",
       "  <tbody>\n",
       "    <tr>\n",
       "      <th>13</th>\n",
       "      <td>(red)</td>\n",
       "      <td>(green, white)</td>\n",
       "      <td>0.545455</td>\n",
       "      <td>0.090909</td>\n",
       "      <td>0.090909</td>\n",
       "      <td>0.166667</td>\n",
       "      <td>1.833333</td>\n",
       "      <td>0.041322</td>\n",
       "      <td>1.090909</td>\n",
       "    </tr>\n",
       "    <tr>\n",
       "      <th>6</th>\n",
       "      <td>(white)</td>\n",
       "      <td>(orange)</td>\n",
       "      <td>0.636364</td>\n",
       "      <td>0.181818</td>\n",
       "      <td>0.181818</td>\n",
       "      <td>0.285714</td>\n",
       "      <td>1.571429</td>\n",
       "      <td>0.066116</td>\n",
       "      <td>1.145455</td>\n",
       "    </tr>\n",
       "    <tr>\n",
       "      <th>16</th>\n",
       "      <td>(white)</td>\n",
       "      <td>(orange, red)</td>\n",
       "      <td>0.636364</td>\n",
       "      <td>0.090909</td>\n",
       "      <td>0.090909</td>\n",
       "      <td>0.142857</td>\n",
       "      <td>1.571429</td>\n",
       "      <td>0.033058</td>\n",
       "      <td>1.060606</td>\n",
       "    </tr>\n",
       "    <tr>\n",
       "      <th>3</th>\n",
       "      <td>(red)</td>\n",
       "      <td>(blue)</td>\n",
       "      <td>0.545455</td>\n",
       "      <td>0.545455</td>\n",
       "      <td>0.363636</td>\n",
       "      <td>0.666667</td>\n",
       "      <td>1.222222</td>\n",
       "      <td>0.066116</td>\n",
       "      <td>1.363636</td>\n",
       "    </tr>\n",
       "    <tr>\n",
       "      <th>0</th>\n",
       "      <td>(white)</td>\n",
       "      <td>(red)</td>\n",
       "      <td>0.636364</td>\n",
       "      <td>0.545455</td>\n",
       "      <td>0.363636</td>\n",
       "      <td>0.571429</td>\n",
       "      <td>1.047619</td>\n",
       "      <td>0.016529</td>\n",
       "      <td>1.060606</td>\n",
       "    </tr>\n",
       "    <tr>\n",
       "      <th>4</th>\n",
       "      <td>(white)</td>\n",
       "      <td>(blue)</td>\n",
       "      <td>0.636364</td>\n",
       "      <td>0.545455</td>\n",
       "      <td>0.363636</td>\n",
       "      <td>0.571429</td>\n",
       "      <td>1.047619</td>\n",
       "      <td>0.016529</td>\n",
       "      <td>1.060606</td>\n",
       "    </tr>\n",
       "  </tbody>\n",
       "</table>\n",
       "</div>"
      ],
      "text/plain": [
       "   antecedents     consequents  antecedent support  consequent support  \\\n",
       "13       (red)  (green, white)            0.545455            0.090909   \n",
       "6      (white)        (orange)            0.636364            0.181818   \n",
       "16     (white)   (orange, red)            0.636364            0.090909   \n",
       "3        (red)          (blue)            0.545455            0.545455   \n",
       "0      (white)           (red)            0.636364            0.545455   \n",
       "4      (white)          (blue)            0.636364            0.545455   \n",
       "\n",
       "     support  confidence      lift  leverage  conviction  \n",
       "13  0.090909    0.166667  1.833333  0.041322    1.090909  \n",
       "6   0.181818    0.285714  1.571429  0.066116    1.145455  \n",
       "16  0.090909    0.142857  1.571429  0.033058    1.060606  \n",
       "3   0.363636    0.666667  1.222222  0.066116    1.363636  \n",
       "0   0.363636    0.571429  1.047619  0.016529    1.060606  \n",
       "4   0.363636    0.571429  1.047619  0.016529    1.060606  "
      ]
     },
     "execution_count": 19,
     "metadata": {},
     "output_type": "execute_result"
    }
   ],
   "source": [
    "rules_no_redudancy.sort_values('lift',ascending=False).head(10)"
   ]
  },
  {
   "cell_type": "code",
   "execution_count": 20,
   "id": "detailed-twelve",
   "metadata": {},
   "outputs": [],
   "source": [
    "# Perform algorithm for different support, connfidence value and max length"
   ]
  },
  {
   "cell_type": "code",
   "execution_count": 21,
   "id": "chubby-profession",
   "metadata": {},
   "outputs": [],
   "source": [
    "frequent_itemsets1 = apriori(phone, min_support=0.007, max_len=4,use_colnames = True)"
   ]
  },
  {
   "cell_type": "code",
   "execution_count": 22,
   "id": "liberal-sweden",
   "metadata": {},
   "outputs": [],
   "source": [
    "# Most Frequent item sets based on support "
   ]
  },
  {
   "cell_type": "code",
   "execution_count": 23,
   "id": "mighty-honduras",
   "metadata": {},
   "outputs": [
    {
     "name": "stderr",
     "output_type": "stream",
     "text": [
      "<ipython-input-23-6296cb9947a0>:2: MatplotlibDeprecationWarning: Using a string of single character colors as a color sequence is deprecated since 3.2 and will be removed two minor releases later. Use an explicit list instead.\n",
      "  plt.bar(x = list(range(1,6)),height = frequent_itemsets1.support[1:6],color='rgmyk')\n"
     ]
    },
    {
     "data": {
      "text/plain": [
       "Text(0, 0.5, 'support')"
      ]
     },
     "execution_count": 23,
     "metadata": {},
     "output_type": "execute_result"
    },
    {
     "data": {
      "image/png": "[encoded data removed]",
      "text/plain": [
       "<Figure size 432x288 with 1 Axes>"
      ]
     },
     "metadata": {
      "needs_background": "light"
     },
     "output_type": "display_data"
    }
   ],
   "source": [
    "frequent_itemsets1.sort_values('support',ascending = False,inplace=True)\n",
    "plt.bar(x = list(range(1,6)),height = frequent_itemsets1.support[1:6],color='rgmyk')\n",
    "plt.xticks(list(range(1,6)),frequent_itemsets1.itemsets[1:6])\n",
    "plt.xlabel('item-sets')\n",
    "plt.ylabel('support')"
   ]
  },
  {
   "cell_type": "code",
   "execution_count": 24,
   "id": "bridal-requirement",
   "metadata": {},
   "outputs": [],
   "source": [
    "rules1 = association_rules(frequent_itemsets1, metric=\"lift\", min_threshold=1)\n",
    "rules1.head(20)\n",
    "rules1.sort_values('lift',ascending = False,inplace=True)"
   ]
  },
  {
   "cell_type": "code",
   "execution_count": 25,
   "id": "dominant-algeria",
   "metadata": {},
   "outputs": [],
   "source": [
    "frequent_itemsets2 = apriori(phone, min_support=0.009, max_len=7,use_colnames = True)"
   ]
  },
  {
   "cell_type": "code",
   "execution_count": 26,
   "id": "verbal-might",
   "metadata": {},
   "outputs": [],
   "source": [
    "# Most Frequent item sets based on support "
   ]
  },
  {
   "cell_type": "code",
   "execution_count": 27,
   "id": "subjective-surprise",
   "metadata": {},
   "outputs": [
    {
     "name": "stderr",
     "output_type": "stream",
     "text": [
      "<ipython-input-27-5c5f88d162be>:2: MatplotlibDeprecationWarning: Using a string of single character colors as a color sequence is deprecated since 3.2 and will be removed two minor releases later. Use an explicit list instead.\n",
      "  plt.bar(x = list(range(1,6)),height = frequent_itemsets2.support[1:6],color='rgmyk')\n"
     ]
    },
    {
     "data": {
      "text/plain": [
       "Text(0, 0.5, 'support')"
      ]
     },
     "execution_count": 27,
     "metadata": {},
     "output_type": "execute_result"
    },
    {
     "data": {
      "image/png": "[encoded data removed]",
      "text/plain": [
       "<Figure size 432x288 with 1 Axes>"
      ]
     },
     "metadata": {
      "needs_background": "light"
     },
     "output_type": "display_data"
    }
   ],
   "source": [
    "frequent_itemsets2.sort_values('support',ascending = False,inplace=True)\n",
    "plt.bar(x = list(range(1,6)),height = frequent_itemsets2.support[1:6],color='rgmyk')\n",
    "plt.xticks(list(range(1,6)),frequent_itemsets2.itemsets[1:6])\n",
    "plt.xlabel('item-sets')\n",
    "plt.ylabel('support')"
   ]
  },
  {
   "cell_type": "code",
   "execution_count": 28,
   "id": "noticed-anger",
   "metadata": {},
   "outputs": [],
   "source": [
    "rules2 = association_rules(frequent_itemsets2, metric=\"lift\", min_threshold=1)\n",
    "rules2.head(20)\n",
    "rules2.sort_values('lift',ascending = False,inplace=True)"
   ]
  },
  {
   "cell_type": "markdown",
   "id": "beautiful-ticket",
   "metadata": {},
   "source": [
    "#\n",
    "#As min lenth value is changing the rules is changing.\n",
    "#rules =18\n",
    "#rules1=18\n",
    "#rules2=18"
   ]
  }
 ],
 "metadata": {
  "kernelspec": {
   "display_name": "Python 3",
   "language": "python",
   "name": "python3"
  },
  "language_info": {
   "codemirror_mode": {
    "name": "ipython",
    "version": 3
   },
   "file_extension": ".py",
   "mimetype": "text/x-python",
   "name": "python",
   "nbconvert_exporter": "python",
   "pygments_lexer": "ipython3",
   "version": "3.8.3"
  }
 },
 "nbformat": 4,
 "nbformat_minor": 5
}
