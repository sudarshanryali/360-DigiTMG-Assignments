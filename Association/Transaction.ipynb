{
 "cells": [
  {
   "cell_type": "markdown",
   "id": "classified-edward",
   "metadata": {},
   "source": [
    "# Importing Libraries"
   ]
  },
  {
   "cell_type": "code",
   "execution_count": 1,
   "id": "parallel-mortgage",
   "metadata": {},
   "outputs": [],
   "source": [
    "import pandas as pd\n",
    "from mlxtend.frequent_patterns import apriori, association_rules"
   ]
  },
  {
   "cell_type": "markdown",
   "id": "killing-guidance",
   "metadata": {},
   "source": [
    "# Importing Data Set"
   ]
  },
  {
   "cell_type": "code",
   "execution_count": 2,
   "id": "fuzzy-florist",
   "metadata": {},
   "outputs": [],
   "source": [
    "transaction = []\n",
    "with open(\"C:\\\\Users\\DELL\\Association\\\\groceries.csv\") as f:\n",
    "    transaction = f.read()"
   ]
  },
  {
   "cell_type": "markdown",
   "id": "hispanic-chess",
   "metadata": {},
   "source": [
    "# splitting the data into separate transactions using separator as \"\\n\""
   ]
  },
  {
   "cell_type": "code",
   "execution_count": 3,
   "id": "weird-seventh",
   "metadata": {},
   "outputs": [],
   "source": [
    "transaction = transaction.split(\"\\n\")"
   ]
  },
  {
   "cell_type": "code",
   "execution_count": 4,
   "id": "continued-rating",
   "metadata": {},
   "outputs": [],
   "source": [
    "transaction_list = []\n",
    "for i in transaction:\n",
    "    transaction_list.append(i.split(\",\"))"
   ]
  },
  {
   "cell_type": "code",
   "execution_count": 5,
   "id": "annoying-tragedy",
   "metadata": {},
   "outputs": [],
   "source": [
    "all_transaction_list = [i for item in transaction_list for i in item]"
   ]
  },
  {
   "cell_type": "code",
   "execution_count": 6,
   "id": "multiple-integrity",
   "metadata": {},
   "outputs": [],
   "source": [
    "from collections import Counter"
   ]
  },
  {
   "cell_type": "code",
   "execution_count": 7,
   "id": "sized-shakespeare",
   "metadata": {},
   "outputs": [],
   "source": [
    "item_frequencies = Counter(all_transaction_list)"
   ]
  },
  {
   "cell_type": "markdown",
   "id": "seven-aluminum",
   "metadata": {},
   "source": [
    "# after sorting"
   ]
  },
  {
   "cell_type": "code",
   "execution_count": 8,
   "id": "norwegian-iceland",
   "metadata": {},
   "outputs": [],
   "source": [
    "item_frequencies = sorted(item_frequencies.items(), key = lambda x:x[1])"
   ]
  },
  {
   "cell_type": "markdown",
   "id": "taken-antenna",
   "metadata": {},
   "source": [
    "# Storing frequencies and items in separate variables"
   ]
  },
  {
   "cell_type": "code",
   "execution_count": 9,
   "id": "fantastic-leave",
   "metadata": {},
   "outputs": [],
   "source": [
    "frequencies = list(reversed([i[1] for i in item_frequencies]))\n",
    "items = list(reversed([i[0] for i in item_frequencies]))"
   ]
  },
  {
   "cell_type": "markdown",
   "id": "induced-earth",
   "metadata": {},
   "source": [
    "# barplot of top 10 "
   ]
  },
  {
   "cell_type": "code",
   "execution_count": 10,
   "id": "bored-butter",
   "metadata": {},
   "outputs": [],
   "source": [
    "import matplotlib.pyplot as plt"
   ]
  },
  {
   "cell_type": "code",
   "execution_count": 11,
   "id": "diagnostic-component",
   "metadata": {},
   "outputs": [
    {
     "name": "stderr",
     "output_type": "stream",
     "text": [
      "<ipython-input-11-8f013887356d>:1: MatplotlibDeprecationWarning: Using a string of single character colors as a color sequence is deprecated since 3.2 and will be removed two minor releases later. Use an explicit list instead.\n",
      "  plt.bar(height = frequencies[0:11], x = list(range(0, 11)), color = 'rgbkymc')\n"
     ]
    },
    {
     "data": {
      "image/png": "[encoded data removed]",
      "text/plain": [
       "<Figure size 432x288 with 1 Axes>"
      ]
     },
     "metadata": {
      "needs_background": "light"
     },
     "output_type": "display_data"
    }
   ],
   "source": [
    "plt.bar(height = frequencies[0:11], x = list(range(0, 11)), color = 'rgbkymc')\n",
    "plt.xticks(list(range(0, 11), ), items[0:11])\n",
    "plt.xlabel(\"items\")\n",
    "plt.ylabel(\"Count\")\n",
    "plt.show()"
   ]
  },
  {
   "cell_type": "markdown",
   "id": "fallen-north",
   "metadata": {},
   "source": [
    "# Creating Data Frame for the transactions data"
   ]
  },
  {
   "cell_type": "code",
   "execution_count": 12,
   "id": "prompt-cache",
   "metadata": {},
   "outputs": [],
   "source": [
    "transaction_series = pd.DataFrame(pd.Series(transaction_list))\n",
    "transaction_series = transaction_series.iloc[:9835, :]"
   ]
  },
  {
   "cell_type": "code",
   "execution_count": 13,
   "id": "dressed-grain",
   "metadata": {},
   "outputs": [],
   "source": [
    "transaction_series.columns = [\"transactions\"]"
   ]
  },
  {
   "cell_type": "markdown",
   "id": "rural-huntington",
   "metadata": {},
   "source": [
    "# creating a dummy columns for the each item in each transactions ... Using column names as item name"
   ]
  },
  {
   "cell_type": "code",
   "execution_count": 14,
   "id": "environmental-female",
   "metadata": {},
   "outputs": [],
   "source": [
    "X = transaction_series['transactions'].str.join(sep = '*').str.get_dummies(sep = '*')"
   ]
  },
  {
   "cell_type": "code",
   "execution_count": 15,
   "id": "sapphire-cycle",
   "metadata": {},
   "outputs": [],
   "source": [
    "frequent_itemsets = apriori(X, min_support = 0.0075, max_len = 4, use_colnames = True)"
   ]
  },
  {
   "cell_type": "markdown",
   "id": "supported-bidding",
   "metadata": {},
   "source": [
    "# Most Frequent item sets based on support "
   ]
  },
  {
   "cell_type": "code",
   "execution_count": 16,
   "id": "amateur-leisure",
   "metadata": {},
   "outputs": [],
   "source": [
    "frequent_itemsets.sort_values('support', ascending = False, inplace = True)"
   ]
  },
  {
   "cell_type": "code",
   "execution_count": 17,
   "id": "warming-carolina",
   "metadata": {},
   "outputs": [
    {
     "name": "stderr",
     "output_type": "stream",
     "text": [
      "<ipython-input-17-3f6c91c30844>:1: MatplotlibDeprecationWarning: Using a string of single character colors as a color sequence is deprecated since 3.2 and will be removed two minor releases later. Use an explicit list instead.\n",
      "  plt.bar(x = list(range(0, 11)), height = frequent_itemsets.support[0:11], color ='rgmyk')\n"
     ]
    },
    {
     "data": {
      "image/png": "[encoded data removed]",
      "text/plain": [
       "<Figure size 432x288 with 1 Axes>"
      ]
     },
     "metadata": {
      "needs_background": "light"
     },
     "output_type": "display_data"
    }
   ],
   "source": [
    "plt.bar(x = list(range(0, 11)), height = frequent_itemsets.support[0:11], color ='rgmyk')\n",
    "plt.xticks(list(range(0, 11)), frequent_itemsets.itemsets[0:11])\n",
    "plt.xlabel('item-sets')\n",
    "plt.ylabel('support')\n",
    "plt.show()"
   ]
  },
  {
   "cell_type": "code",
   "execution_count": 18,
   "id": "departmental-spencer",
   "metadata": {},
   "outputs": [
    {
     "data": {
      "text/html": [
       "<div>\n",
       "<style scoped>\n",
       "    .dataframe tbody tr th:only-of-type {\n",
       "        vertical-align: middle;\n",
       "    }\n",
       "\n",
       "    .dataframe tbody tr th {\n",
       "        vertical-align: top;\n",
       "    }\n",
       "\n",
       "    .dataframe thead th {\n",
       "        text-align: right;\n",
       "    }\n",
       "</style>\n",
       "<table border=\"1\" class=\"dataframe\">\n",
       "  <thead>\n",
       "    <tr style=\"text-align: right;\">\n",
       "      <th></th>\n",
       "      <th>antecedents</th>\n",
       "      <th>consequents</th>\n",
       "      <th>antecedent support</th>\n",
       "      <th>consequent support</th>\n",
       "      <th>support</th>\n",
       "      <th>confidence</th>\n",
       "      <th>lift</th>\n",
       "      <th>leverage</th>\n",
       "      <th>conviction</th>\n",
       "    </tr>\n",
       "  </thead>\n",
       "  <tbody>\n",
       "    <tr>\n",
       "      <th>0</th>\n",
       "      <td>(other vegetables)</td>\n",
       "      <td>(whole milk)</td>\n",
       "      <td>0.193493</td>\n",
       "      <td>0.255516</td>\n",
       "      <td>0.074835</td>\n",
       "      <td>0.386758</td>\n",
       "      <td>1.513634</td>\n",
       "      <td>0.025394</td>\n",
       "      <td>1.214013</td>\n",
       "    </tr>\n",
       "    <tr>\n",
       "      <th>1</th>\n",
       "      <td>(whole milk)</td>\n",
       "      <td>(other vegetables)</td>\n",
       "      <td>0.255516</td>\n",
       "      <td>0.193493</td>\n",
       "      <td>0.074835</td>\n",
       "      <td>0.292877</td>\n",
       "      <td>1.513634</td>\n",
       "      <td>0.025394</td>\n",
       "      <td>1.140548</td>\n",
       "    </tr>\n",
       "    <tr>\n",
       "      <th>2</th>\n",
       "      <td>(whole milk)</td>\n",
       "      <td>(rolls/buns)</td>\n",
       "      <td>0.255516</td>\n",
       "      <td>0.183935</td>\n",
       "      <td>0.056634</td>\n",
       "      <td>0.221647</td>\n",
       "      <td>1.205032</td>\n",
       "      <td>0.009636</td>\n",
       "      <td>1.048452</td>\n",
       "    </tr>\n",
       "    <tr>\n",
       "      <th>3</th>\n",
       "      <td>(rolls/buns)</td>\n",
       "      <td>(whole milk)</td>\n",
       "      <td>0.183935</td>\n",
       "      <td>0.255516</td>\n",
       "      <td>0.056634</td>\n",
       "      <td>0.307905</td>\n",
       "      <td>1.205032</td>\n",
       "      <td>0.009636</td>\n",
       "      <td>1.075696</td>\n",
       "    </tr>\n",
       "    <tr>\n",
       "      <th>4</th>\n",
       "      <td>(whole milk)</td>\n",
       "      <td>(yogurt)</td>\n",
       "      <td>0.255516</td>\n",
       "      <td>0.139502</td>\n",
       "      <td>0.056024</td>\n",
       "      <td>0.219260</td>\n",
       "      <td>1.571735</td>\n",
       "      <td>0.020379</td>\n",
       "      <td>1.102157</td>\n",
       "    </tr>\n",
       "    <tr>\n",
       "      <th>5</th>\n",
       "      <td>(yogurt)</td>\n",
       "      <td>(whole milk)</td>\n",
       "      <td>0.139502</td>\n",
       "      <td>0.255516</td>\n",
       "      <td>0.056024</td>\n",
       "      <td>0.401603</td>\n",
       "      <td>1.571735</td>\n",
       "      <td>0.020379</td>\n",
       "      <td>1.244132</td>\n",
       "    </tr>\n",
       "    <tr>\n",
       "      <th>6</th>\n",
       "      <td>(whole milk)</td>\n",
       "      <td>(root vegetables)</td>\n",
       "      <td>0.255516</td>\n",
       "      <td>0.108998</td>\n",
       "      <td>0.048907</td>\n",
       "      <td>0.191405</td>\n",
       "      <td>1.756031</td>\n",
       "      <td>0.021056</td>\n",
       "      <td>1.101913</td>\n",
       "    </tr>\n",
       "    <tr>\n",
       "      <th>7</th>\n",
       "      <td>(root vegetables)</td>\n",
       "      <td>(whole milk)</td>\n",
       "      <td>0.108998</td>\n",
       "      <td>0.255516</td>\n",
       "      <td>0.048907</td>\n",
       "      <td>0.448694</td>\n",
       "      <td>1.756031</td>\n",
       "      <td>0.021056</td>\n",
       "      <td>1.350401</td>\n",
       "    </tr>\n",
       "    <tr>\n",
       "      <th>8</th>\n",
       "      <td>(other vegetables)</td>\n",
       "      <td>(root vegetables)</td>\n",
       "      <td>0.193493</td>\n",
       "      <td>0.108998</td>\n",
       "      <td>0.047382</td>\n",
       "      <td>0.244877</td>\n",
       "      <td>2.246605</td>\n",
       "      <td>0.026291</td>\n",
       "      <td>1.179941</td>\n",
       "    </tr>\n",
       "    <tr>\n",
       "      <th>9</th>\n",
       "      <td>(root vegetables)</td>\n",
       "      <td>(other vegetables)</td>\n",
       "      <td>0.108998</td>\n",
       "      <td>0.193493</td>\n",
       "      <td>0.047382</td>\n",
       "      <td>0.434701</td>\n",
       "      <td>2.246605</td>\n",
       "      <td>0.026291</td>\n",
       "      <td>1.426693</td>\n",
       "    </tr>\n",
       "    <tr>\n",
       "      <th>10</th>\n",
       "      <td>(other vegetables)</td>\n",
       "      <td>(yogurt)</td>\n",
       "      <td>0.193493</td>\n",
       "      <td>0.139502</td>\n",
       "      <td>0.043416</td>\n",
       "      <td>0.224383</td>\n",
       "      <td>1.608457</td>\n",
       "      <td>0.016424</td>\n",
       "      <td>1.109436</td>\n",
       "    </tr>\n",
       "    <tr>\n",
       "      <th>11</th>\n",
       "      <td>(yogurt)</td>\n",
       "      <td>(other vegetables)</td>\n",
       "      <td>0.139502</td>\n",
       "      <td>0.193493</td>\n",
       "      <td>0.043416</td>\n",
       "      <td>0.311224</td>\n",
       "      <td>1.608457</td>\n",
       "      <td>0.016424</td>\n",
       "      <td>1.170929</td>\n",
       "    </tr>\n",
       "    <tr>\n",
       "      <th>12</th>\n",
       "      <td>(other vegetables)</td>\n",
       "      <td>(rolls/buns)</td>\n",
       "      <td>0.193493</td>\n",
       "      <td>0.183935</td>\n",
       "      <td>0.042603</td>\n",
       "      <td>0.220179</td>\n",
       "      <td>1.197047</td>\n",
       "      <td>0.007013</td>\n",
       "      <td>1.046477</td>\n",
       "    </tr>\n",
       "    <tr>\n",
       "      <th>13</th>\n",
       "      <td>(rolls/buns)</td>\n",
       "      <td>(other vegetables)</td>\n",
       "      <td>0.183935</td>\n",
       "      <td>0.193493</td>\n",
       "      <td>0.042603</td>\n",
       "      <td>0.231620</td>\n",
       "      <td>1.197047</td>\n",
       "      <td>0.007013</td>\n",
       "      <td>1.049620</td>\n",
       "    </tr>\n",
       "    <tr>\n",
       "      <th>14</th>\n",
       "      <td>(whole milk)</td>\n",
       "      <td>(tropical fruit)</td>\n",
       "      <td>0.255516</td>\n",
       "      <td>0.104931</td>\n",
       "      <td>0.042298</td>\n",
       "      <td>0.165539</td>\n",
       "      <td>1.577595</td>\n",
       "      <td>0.015486</td>\n",
       "      <td>1.072631</td>\n",
       "    </tr>\n",
       "    <tr>\n",
       "      <th>15</th>\n",
       "      <td>(tropical fruit)</td>\n",
       "      <td>(whole milk)</td>\n",
       "      <td>0.104931</td>\n",
       "      <td>0.255516</td>\n",
       "      <td>0.042298</td>\n",
       "      <td>0.403101</td>\n",
       "      <td>1.577595</td>\n",
       "      <td>0.015486</td>\n",
       "      <td>1.247252</td>\n",
       "    </tr>\n",
       "    <tr>\n",
       "      <th>16</th>\n",
       "      <td>(soda)</td>\n",
       "      <td>(rolls/buns)</td>\n",
       "      <td>0.174377</td>\n",
       "      <td>0.183935</td>\n",
       "      <td>0.038332</td>\n",
       "      <td>0.219825</td>\n",
       "      <td>1.195124</td>\n",
       "      <td>0.006258</td>\n",
       "      <td>1.046003</td>\n",
       "    </tr>\n",
       "    <tr>\n",
       "      <th>17</th>\n",
       "      <td>(rolls/buns)</td>\n",
       "      <td>(soda)</td>\n",
       "      <td>0.183935</td>\n",
       "      <td>0.174377</td>\n",
       "      <td>0.038332</td>\n",
       "      <td>0.208402</td>\n",
       "      <td>1.195124</td>\n",
       "      <td>0.006258</td>\n",
       "      <td>1.042983</td>\n",
       "    </tr>\n",
       "    <tr>\n",
       "      <th>18</th>\n",
       "      <td>(other vegetables)</td>\n",
       "      <td>(tropical fruit)</td>\n",
       "      <td>0.193493</td>\n",
       "      <td>0.104931</td>\n",
       "      <td>0.035892</td>\n",
       "      <td>0.185497</td>\n",
       "      <td>1.767790</td>\n",
       "      <td>0.015589</td>\n",
       "      <td>1.098913</td>\n",
       "    </tr>\n",
       "    <tr>\n",
       "      <th>19</th>\n",
       "      <td>(tropical fruit)</td>\n",
       "      <td>(other vegetables)</td>\n",
       "      <td>0.104931</td>\n",
       "      <td>0.193493</td>\n",
       "      <td>0.035892</td>\n",
       "      <td>0.342054</td>\n",
       "      <td>1.767790</td>\n",
       "      <td>0.015589</td>\n",
       "      <td>1.225796</td>\n",
       "    </tr>\n",
       "  </tbody>\n",
       "</table>\n",
       "</div>"
      ],
      "text/plain": [
       "           antecedents         consequents  antecedent support  \\\n",
       "0   (other vegetables)        (whole milk)            0.193493   \n",
       "1         (whole milk)  (other vegetables)            0.255516   \n",
       "2         (whole milk)        (rolls/buns)            0.255516   \n",
       "3         (rolls/buns)        (whole milk)            0.183935   \n",
       "4         (whole milk)            (yogurt)            0.255516   \n",
       "5             (yogurt)        (whole milk)            0.139502   \n",
       "6         (whole milk)   (root vegetables)            0.255516   \n",
       "7    (root vegetables)        (whole milk)            0.108998   \n",
       "8   (other vegetables)   (root vegetables)            0.193493   \n",
       "9    (root vegetables)  (other vegetables)            0.108998   \n",
       "10  (other vegetables)            (yogurt)            0.193493   \n",
       "11            (yogurt)  (other vegetables)            0.139502   \n",
       "12  (other vegetables)        (rolls/buns)            0.193493   \n",
       "13        (rolls/buns)  (other vegetables)            0.183935   \n",
       "14        (whole milk)    (tropical fruit)            0.255516   \n",
       "15    (tropical fruit)        (whole milk)            0.104931   \n",
       "16              (soda)        (rolls/buns)            0.174377   \n",
       "17        (rolls/buns)              (soda)            0.183935   \n",
       "18  (other vegetables)    (tropical fruit)            0.193493   \n",
       "19    (tropical fruit)  (other vegetables)            0.104931   \n",
       "\n",
       "    consequent support   support  confidence      lift  leverage  conviction  \n",
       "0             0.255516  0.074835    0.386758  1.513634  0.025394    1.214013  \n",
       "1             0.193493  0.074835    0.292877  1.513634  0.025394    1.140548  \n",
       "2             0.183935  0.056634    0.221647  1.205032  0.009636    1.048452  \n",
       "3             0.255516  0.056634    0.307905  1.205032  0.009636    1.075696  \n",
       "4             0.139502  0.056024    0.219260  1.571735  0.020379    1.102157  \n",
       "5             0.255516  0.056024    0.401603  1.571735  0.020379    1.244132  \n",
       "6             0.108998  0.048907    0.191405  1.756031  0.021056    1.101913  \n",
       "7             0.255516  0.048907    0.448694  1.756031  0.021056    1.350401  \n",
       "8             0.108998  0.047382    0.244877  2.246605  0.026291    1.179941  \n",
       "9             0.193493  0.047382    0.434701  2.246605  0.026291    1.426693  \n",
       "10            0.139502  0.043416    0.224383  1.608457  0.016424    1.109436  \n",
       "11            0.193493  0.043416    0.311224  1.608457  0.016424    1.170929  \n",
       "12            0.183935  0.042603    0.220179  1.197047  0.007013    1.046477  \n",
       "13            0.193493  0.042603    0.231620  1.197047  0.007013    1.049620  \n",
       "14            0.104931  0.042298    0.165539  1.577595  0.015486    1.072631  \n",
       "15            0.255516  0.042298    0.403101  1.577595  0.015486    1.247252  \n",
       "16            0.183935  0.038332    0.219825  1.195124  0.006258    1.046003  \n",
       "17            0.174377  0.038332    0.208402  1.195124  0.006258    1.042983  \n",
       "18            0.104931  0.035892    0.185497  1.767790  0.015589    1.098913  \n",
       "19            0.193493  0.035892    0.342054  1.767790  0.015589    1.225796  "
      ]
     },
     "execution_count": 18,
     "metadata": {},
     "output_type": "execute_result"
    }
   ],
   "source": [
    "rules = association_rules(frequent_itemsets, metric = \"lift\", min_threshold = 1)\n",
    "rules.head(20)"
   ]
  },
  {
   "cell_type": "code",
   "execution_count": 19,
   "id": "artificial-wilson",
   "metadata": {},
   "outputs": [
    {
     "data": {
      "text/html": [
       "<div>\n",
       "<style scoped>\n",
       "    .dataframe tbody tr th:only-of-type {\n",
       "        vertical-align: middle;\n",
       "    }\n",
       "\n",
       "    .dataframe tbody tr th {\n",
       "        vertical-align: top;\n",
       "    }\n",
       "\n",
       "    .dataframe thead th {\n",
       "        text-align: right;\n",
       "    }\n",
       "</style>\n",
       "<table border=\"1\" class=\"dataframe\">\n",
       "  <thead>\n",
       "    <tr style=\"text-align: right;\">\n",
       "      <th></th>\n",
       "      <th>antecedents</th>\n",
       "      <th>consequents</th>\n",
       "      <th>antecedent support</th>\n",
       "      <th>consequent support</th>\n",
       "      <th>support</th>\n",
       "      <th>confidence</th>\n",
       "      <th>lift</th>\n",
       "      <th>leverage</th>\n",
       "      <th>conviction</th>\n",
       "    </tr>\n",
       "  </thead>\n",
       "  <tbody>\n",
       "    <tr>\n",
       "      <th>1172</th>\n",
       "      <td>(other vegetables, yogurt)</td>\n",
       "      <td>(whole milk, tropical fruit)</td>\n",
       "      <td>0.043416</td>\n",
       "      <td>0.042298</td>\n",
       "      <td>0.007626</td>\n",
       "      <td>0.175644</td>\n",
       "      <td>4.152546</td>\n",
       "      <td>0.005789</td>\n",
       "      <td>1.161758</td>\n",
       "    </tr>\n",
       "    <tr>\n",
       "      <th>1173</th>\n",
       "      <td>(whole milk, tropical fruit)</td>\n",
       "      <td>(other vegetables, yogurt)</td>\n",
       "      <td>0.042298</td>\n",
       "      <td>0.043416</td>\n",
       "      <td>0.007626</td>\n",
       "      <td>0.180288</td>\n",
       "      <td>4.152546</td>\n",
       "      <td>0.005789</td>\n",
       "      <td>1.166976</td>\n",
       "    </tr>\n",
       "    <tr>\n",
       "      <th>1093</th>\n",
       "      <td>(yogurt, root vegetables)</td>\n",
       "      <td>(other vegetables, whole milk)</td>\n",
       "      <td>0.025826</td>\n",
       "      <td>0.074835</td>\n",
       "      <td>0.007829</td>\n",
       "      <td>0.303150</td>\n",
       "      <td>4.050919</td>\n",
       "      <td>0.005896</td>\n",
       "      <td>1.327638</td>\n",
       "    </tr>\n",
       "    <tr>\n",
       "      <th>1088</th>\n",
       "      <td>(other vegetables, whole milk)</td>\n",
       "      <td>(yogurt, root vegetables)</td>\n",
       "      <td>0.074835</td>\n",
       "      <td>0.025826</td>\n",
       "      <td>0.007829</td>\n",
       "      <td>0.104620</td>\n",
       "      <td>4.050919</td>\n",
       "      <td>0.005896</td>\n",
       "      <td>1.088000</td>\n",
       "    </tr>\n",
       "    <tr>\n",
       "      <th>792</th>\n",
       "      <td>(berries)</td>\n",
       "      <td>(whipped/sour cream)</td>\n",
       "      <td>0.033249</td>\n",
       "      <td>0.071683</td>\n",
       "      <td>0.009049</td>\n",
       "      <td>0.272171</td>\n",
       "      <td>3.796886</td>\n",
       "      <td>0.006666</td>\n",
       "      <td>1.275461</td>\n",
       "    </tr>\n",
       "    <tr>\n",
       "      <th>793</th>\n",
       "      <td>(whipped/sour cream)</td>\n",
       "      <td>(berries)</td>\n",
       "      <td>0.071683</td>\n",
       "      <td>0.033249</td>\n",
       "      <td>0.009049</td>\n",
       "      <td>0.126241</td>\n",
       "      <td>3.796886</td>\n",
       "      <td>0.006666</td>\n",
       "      <td>1.106428</td>\n",
       "    </tr>\n",
       "    <tr>\n",
       "      <th>1174</th>\n",
       "      <td>(whole milk, yogurt)</td>\n",
       "      <td>(other vegetables, tropical fruit)</td>\n",
       "      <td>0.056024</td>\n",
       "      <td>0.035892</td>\n",
       "      <td>0.007626</td>\n",
       "      <td>0.136116</td>\n",
       "      <td>3.792358</td>\n",
       "      <td>0.005615</td>\n",
       "      <td>1.116016</td>\n",
       "    </tr>\n",
       "    <tr>\n",
       "      <th>1171</th>\n",
       "      <td>(other vegetables, tropical fruit)</td>\n",
       "      <td>(whole milk, yogurt)</td>\n",
       "      <td>0.035892</td>\n",
       "      <td>0.056024</td>\n",
       "      <td>0.007626</td>\n",
       "      <td>0.212465</td>\n",
       "      <td>3.792358</td>\n",
       "      <td>0.005615</td>\n",
       "      <td>1.198645</td>\n",
       "    </tr>\n",
       "    <tr>\n",
       "      <th>1053</th>\n",
       "      <td>(root vegetables)</td>\n",
       "      <td>(other vegetables, beef)</td>\n",
       "      <td>0.108998</td>\n",
       "      <td>0.019725</td>\n",
       "      <td>0.007931</td>\n",
       "      <td>0.072761</td>\n",
       "      <td>3.688692</td>\n",
       "      <td>0.005781</td>\n",
       "      <td>1.057197</td>\n",
       "    </tr>\n",
       "    <tr>\n",
       "      <th>1048</th>\n",
       "      <td>(other vegetables, beef)</td>\n",
       "      <td>(root vegetables)</td>\n",
       "      <td>0.019725</td>\n",
       "      <td>0.108998</td>\n",
       "      <td>0.007931</td>\n",
       "      <td>0.402062</td>\n",
       "      <td>3.688692</td>\n",
       "      <td>0.005781</td>\n",
       "      <td>1.490123</td>\n",
       "    </tr>\n",
       "  </tbody>\n",
       "</table>\n",
       "</div>"
      ],
      "text/plain": [
       "                             antecedents                         consequents  \\\n",
       "1172          (other vegetables, yogurt)        (whole milk, tropical fruit)   \n",
       "1173        (whole milk, tropical fruit)          (other vegetables, yogurt)   \n",
       "1093           (yogurt, root vegetables)      (other vegetables, whole milk)   \n",
       "1088      (other vegetables, whole milk)           (yogurt, root vegetables)   \n",
       "792                            (berries)                (whipped/sour cream)   \n",
       "793                 (whipped/sour cream)                           (berries)   \n",
       "1174                (whole milk, yogurt)  (other vegetables, tropical fruit)   \n",
       "1171  (other vegetables, tropical fruit)                (whole milk, yogurt)   \n",
       "1053                   (root vegetables)            (other vegetables, beef)   \n",
       "1048            (other vegetables, beef)                   (root vegetables)   \n",
       "\n",
       "      antecedent support  consequent support   support  confidence      lift  \\\n",
       "1172            0.043416            0.042298  0.007626    0.175644  4.152546   \n",
       "1173            0.042298            0.043416  0.007626    0.180288  4.152546   \n",
       "1093            0.025826            0.074835  0.007829    0.303150  4.050919   \n",
       "1088            0.074835            0.025826  0.007829    0.104620  4.050919   \n",
       "792             0.033249            0.071683  0.009049    0.272171  3.796886   \n",
       "793             0.071683            0.033249  0.009049    0.126241  3.796886   \n",
       "1174            0.056024            0.035892  0.007626    0.136116  3.792358   \n",
       "1171            0.035892            0.056024  0.007626    0.212465  3.792358   \n",
       "1053            0.108998            0.019725  0.007931    0.072761  3.688692   \n",
       "1048            0.019725            0.108998  0.007931    0.402062  3.688692   \n",
       "\n",
       "      leverage  conviction  \n",
       "1172  0.005789    1.161758  \n",
       "1173  0.005789    1.166976  \n",
       "1093  0.005896    1.327638  \n",
       "1088  0.005896    1.088000  \n",
       "792   0.006666    1.275461  \n",
       "793   0.006666    1.106428  \n",
       "1174  0.005615    1.116016  \n",
       "1171  0.005615    1.198645  \n",
       "1053  0.005781    1.057197  \n",
       "1048  0.005781    1.490123  "
      ]
     },
     "execution_count": 19,
     "metadata": {},
     "output_type": "execute_result"
    }
   ],
   "source": [
    "rules.sort_values('lift', ascending = False).head(10)"
   ]
  },
  {
   "cell_type": "markdown",
   "id": "concerned-jungle",
   "metadata": {},
   "source": [
    "# To eliminate retundancy"
   ]
  },
  {
   "cell_type": "code",
   "execution_count": 20,
   "id": "israeli-speaking",
   "metadata": {},
   "outputs": [],
   "source": [
    "def to_list(i):\n",
    "    return (sorted(list(i)))"
   ]
  },
  {
   "cell_type": "code",
   "execution_count": 21,
   "id": "lonely-specific",
   "metadata": {},
   "outputs": [],
   "source": [
    "ma_X = rules.antecedents.apply(to_list) + rules.consequents.apply(to_list)"
   ]
  },
  {
   "cell_type": "code",
   "execution_count": 22,
   "id": "technological-paragraph",
   "metadata": {},
   "outputs": [],
   "source": [
    "ma_X = ma_X.apply(sorted)"
   ]
  },
  {
   "cell_type": "code",
   "execution_count": 23,
   "id": "generous-chemistry",
   "metadata": {},
   "outputs": [],
   "source": [
    "rules_sets = list(ma_X)"
   ]
  },
  {
   "cell_type": "code",
   "execution_count": 24,
   "id": "configured-advance",
   "metadata": {},
   "outputs": [],
   "source": [
    "unique_rules_sets = [list(m) for m in set(tuple(i) for i in rules_sets)]"
   ]
  },
  {
   "cell_type": "code",
   "execution_count": 25,
   "id": "loose-order",
   "metadata": {},
   "outputs": [],
   "source": [
    "index_rules = []"
   ]
  },
  {
   "cell_type": "code",
   "execution_count": 26,
   "id": "exclusive-qualification",
   "metadata": {},
   "outputs": [],
   "source": [
    "for i in unique_rules_sets:\n",
    "    index_rules.append(rules_sets.index(i))"
   ]
  },
  {
   "cell_type": "markdown",
   "id": "subtle-persian",
   "metadata": {},
   "source": [
    "# getting rules without any redudancy "
   ]
  },
  {
   "cell_type": "code",
   "execution_count": 27,
   "id": "sought-shipping",
   "metadata": {},
   "outputs": [],
   "source": [
    "rules_no_redudancy = rules.iloc[index_rules, :]"
   ]
  },
  {
   "cell_type": "markdown",
   "id": "southeast-penguin",
   "metadata": {},
   "source": [
    "# Sorting them with respect to list and getting top 10 rules "
   ]
  },
  {
   "cell_type": "code",
   "execution_count": 28,
   "id": "injured-holly",
   "metadata": {},
   "outputs": [
    {
     "data": {
      "text/html": [
       "<div>\n",
       "<style scoped>\n",
       "    .dataframe tbody tr th:only-of-type {\n",
       "        vertical-align: middle;\n",
       "    }\n",
       "\n",
       "    .dataframe tbody tr th {\n",
       "        vertical-align: top;\n",
       "    }\n",
       "\n",
       "    .dataframe thead th {\n",
       "        text-align: right;\n",
       "    }\n",
       "</style>\n",
       "<table border=\"1\" class=\"dataframe\">\n",
       "  <thead>\n",
       "    <tr style=\"text-align: right;\">\n",
       "      <th></th>\n",
       "      <th>antecedents</th>\n",
       "      <th>consequents</th>\n",
       "      <th>antecedent support</th>\n",
       "      <th>consequent support</th>\n",
       "      <th>support</th>\n",
       "      <th>confidence</th>\n",
       "      <th>lift</th>\n",
       "      <th>leverage</th>\n",
       "      <th>conviction</th>\n",
       "    </tr>\n",
       "  </thead>\n",
       "  <tbody>\n",
       "    <tr>\n",
       "      <th>792</th>\n",
       "      <td>(berries)</td>\n",
       "      <td>(whipped/sour cream)</td>\n",
       "      <td>0.033249</td>\n",
       "      <td>0.071683</td>\n",
       "      <td>0.009049</td>\n",
       "      <td>0.272171</td>\n",
       "      <td>3.796886</td>\n",
       "      <td>0.006666</td>\n",
       "      <td>1.275461</td>\n",
       "    </tr>\n",
       "    <tr>\n",
       "      <th>1048</th>\n",
       "      <td>(other vegetables, beef)</td>\n",
       "      <td>(root vegetables)</td>\n",
       "      <td>0.019725</td>\n",
       "      <td>0.108998</td>\n",
       "      <td>0.007931</td>\n",
       "      <td>0.402062</td>\n",
       "      <td>3.688692</td>\n",
       "      <td>0.005781</td>\n",
       "      <td>1.490123</td>\n",
       "    </tr>\n",
       "    <tr>\n",
       "      <th>1004</th>\n",
       "      <td>(whole milk, beef)</td>\n",
       "      <td>(root vegetables)</td>\n",
       "      <td>0.021251</td>\n",
       "      <td>0.108998</td>\n",
       "      <td>0.008033</td>\n",
       "      <td>0.377990</td>\n",
       "      <td>3.467851</td>\n",
       "      <td>0.005716</td>\n",
       "      <td>1.432456</td>\n",
       "    </tr>\n",
       "    <tr>\n",
       "      <th>678</th>\n",
       "      <td>(pip fruit, other vegetables)</td>\n",
       "      <td>(tropical fruit)</td>\n",
       "      <td>0.026131</td>\n",
       "      <td>0.104931</td>\n",
       "      <td>0.009456</td>\n",
       "      <td>0.361868</td>\n",
       "      <td>3.448613</td>\n",
       "      <td>0.006714</td>\n",
       "      <td>1.402638</td>\n",
       "    </tr>\n",
       "    <tr>\n",
       "      <th>534</th>\n",
       "      <td>(other vegetables, citrus fruit)</td>\n",
       "      <td>(root vegetables)</td>\n",
       "      <td>0.028876</td>\n",
       "      <td>0.108998</td>\n",
       "      <td>0.010371</td>\n",
       "      <td>0.359155</td>\n",
       "      <td>3.295045</td>\n",
       "      <td>0.007224</td>\n",
       "      <td>1.390354</td>\n",
       "    </tr>\n",
       "    <tr>\n",
       "      <th>1084</th>\n",
       "      <td>(other vegetables, whole milk, yogurt)</td>\n",
       "      <td>(root vegetables)</td>\n",
       "      <td>0.022267</td>\n",
       "      <td>0.108998</td>\n",
       "      <td>0.007829</td>\n",
       "      <td>0.351598</td>\n",
       "      <td>3.225716</td>\n",
       "      <td>0.005402</td>\n",
       "      <td>1.374150</td>\n",
       "    </tr>\n",
       "    <tr>\n",
       "      <th>1166</th>\n",
       "      <td>(other vegetables, whole milk, tropical fruit)</td>\n",
       "      <td>(yogurt)</td>\n",
       "      <td>0.017082</td>\n",
       "      <td>0.139502</td>\n",
       "      <td>0.007626</td>\n",
       "      <td>0.446429</td>\n",
       "      <td>3.200164</td>\n",
       "      <td>0.005243</td>\n",
       "      <td>1.554448</td>\n",
       "    </tr>\n",
       "    <tr>\n",
       "      <th>360</th>\n",
       "      <td>(other vegetables, tropical fruit)</td>\n",
       "      <td>(root vegetables)</td>\n",
       "      <td>0.035892</td>\n",
       "      <td>0.108998</td>\n",
       "      <td>0.012303</td>\n",
       "      <td>0.342776</td>\n",
       "      <td>3.144780</td>\n",
       "      <td>0.008391</td>\n",
       "      <td>1.355705</td>\n",
       "    </tr>\n",
       "    <tr>\n",
       "      <th>172</th>\n",
       "      <td>(beef)</td>\n",
       "      <td>(root vegetables)</td>\n",
       "      <td>0.052466</td>\n",
       "      <td>0.108998</td>\n",
       "      <td>0.017387</td>\n",
       "      <td>0.331395</td>\n",
       "      <td>3.040367</td>\n",
       "      <td>0.011668</td>\n",
       "      <td>1.332628</td>\n",
       "    </tr>\n",
       "    <tr>\n",
       "      <th>776</th>\n",
       "      <td>(other vegetables, citrus fruit)</td>\n",
       "      <td>(tropical fruit)</td>\n",
       "      <td>0.028876</td>\n",
       "      <td>0.104931</td>\n",
       "      <td>0.009049</td>\n",
       "      <td>0.313380</td>\n",
       "      <td>2.986526</td>\n",
       "      <td>0.006019</td>\n",
       "      <td>1.303587</td>\n",
       "    </tr>\n",
       "  </tbody>\n",
       "</table>\n",
       "</div>"
      ],
      "text/plain": [
       "                                         antecedents           consequents  \\\n",
       "792                                        (berries)  (whipped/sour cream)   \n",
       "1048                        (other vegetables, beef)     (root vegetables)   \n",
       "1004                              (whole milk, beef)     (root vegetables)   \n",
       "678                    (pip fruit, other vegetables)      (tropical fruit)   \n",
       "534                 (other vegetables, citrus fruit)     (root vegetables)   \n",
       "1084          (other vegetables, whole milk, yogurt)     (root vegetables)   \n",
       "1166  (other vegetables, whole milk, tropical fruit)              (yogurt)   \n",
       "360               (other vegetables, tropical fruit)     (root vegetables)   \n",
       "172                                           (beef)     (root vegetables)   \n",
       "776                 (other vegetables, citrus fruit)      (tropical fruit)   \n",
       "\n",
       "      antecedent support  consequent support   support  confidence      lift  \\\n",
       "792             0.033249            0.071683  0.009049    0.272171  3.796886   \n",
       "1048            0.019725            0.108998  0.007931    0.402062  3.688692   \n",
       "1004            0.021251            0.108998  0.008033    0.377990  3.467851   \n",
       "678             0.026131            0.104931  0.009456    0.361868  3.448613   \n",
       "534             0.028876            0.108998  0.010371    0.359155  3.295045   \n",
       "1084            0.022267            0.108998  0.007829    0.351598  3.225716   \n",
       "1166            0.017082            0.139502  0.007626    0.446429  3.200164   \n",
       "360             0.035892            0.108998  0.012303    0.342776  3.144780   \n",
       "172             0.052466            0.108998  0.017387    0.331395  3.040367   \n",
       "776             0.028876            0.104931  0.009049    0.313380  2.986526   \n",
       "\n",
       "      leverage  conviction  \n",
       "792   0.006666    1.275461  \n",
       "1048  0.005781    1.490123  \n",
       "1004  0.005716    1.432456  \n",
       "678   0.006714    1.402638  \n",
       "534   0.007224    1.390354  \n",
       "1084  0.005402    1.374150  \n",
       "1166  0.005243    1.554448  \n",
       "360   0.008391    1.355705  \n",
       "172   0.011668    1.332628  \n",
       "776   0.006019    1.303587  "
      ]
     },
     "execution_count": 28,
     "metadata": {},
     "output_type": "execute_result"
    }
   ],
   "source": [
    "rules_no_redudancy.sort_values('lift', ascending = False).head(10)"
   ]
  },
  {
   "cell_type": "markdown",
   "id": "growing-accommodation",
   "metadata": {},
   "source": [
    "# Perform algorithm for different support, connfidence value and max length"
   ]
  },
  {
   "cell_type": "code",
   "execution_count": 29,
   "id": "growing-audit",
   "metadata": {},
   "outputs": [],
   "source": [
    "frequent_itemsets1 = apriori(X, min_support = 0.007, max_len = 4, use_colnames = True)"
   ]
  },
  {
   "cell_type": "markdown",
   "id": "distinguished-daughter",
   "metadata": {},
   "source": [
    "# Most Frequent item sets based on support "
   ]
  },
  {
   "cell_type": "code",
   "execution_count": 30,
   "id": "naval-light",
   "metadata": {},
   "outputs": [
    {
     "name": "stderr",
     "output_type": "stream",
     "text": [
      "<ipython-input-30-53e7063e2dae>:2: MatplotlibDeprecationWarning: Using a string of single character colors as a color sequence is deprecated since 3.2 and will be removed two minor releases later. Use an explicit list instead.\n",
      "  plt.bar(x = list(range(1,11)),height = frequent_itemsets1.support[1:11],color='rgmyk')\n"
     ]
    },
    {
     "data": {
      "text/plain": [
       "Text(0, 0.5, 'support')"
      ]
     },
     "execution_count": 30,
     "metadata": {},
     "output_type": "execute_result"
    },
    {
     "data": {
      "image/png": "[encoded data removed]",
      "text/plain": [
       "<Figure size 432x288 with 1 Axes>"
      ]
     },
     "metadata": {
      "needs_background": "light"
     },
     "output_type": "display_data"
    }
   ],
   "source": [
    "frequent_itemsets1.sort_values('support',ascending = False,inplace=True)\n",
    "plt.bar(x = list(range(1,11)),height = frequent_itemsets1.support[1:11],color='rgmyk')\n",
    "plt.xticks(list(range(1,11)),frequent_itemsets1.itemsets[1:11])\n",
    "plt.xlabel('item-sets')\n",
    "plt.ylabel('support')"
   ]
  },
  {
   "cell_type": "code",
   "execution_count": 31,
   "id": "approximate-charity",
   "metadata": {},
   "outputs": [],
   "source": [
    "rules1 = association_rules(frequent_itemsets1, metric=\"lift\", min_threshold=1)\n",
    "rules1.head(20)\n",
    "rules1.sort_values('lift',ascending = False,inplace=True)"
   ]
  },
  {
   "cell_type": "code",
   "execution_count": 32,
   "id": "opponent-grill",
   "metadata": {},
   "outputs": [],
   "source": [
    "frequent_itemsets2 = apriori(X, min_support=0.009, max_len=5,use_colnames = True)"
   ]
  },
  {
   "cell_type": "markdown",
   "id": "running-pennsylvania",
   "metadata": {},
   "source": [
    "# Most Frequent item sets based on support "
   ]
  },
  {
   "cell_type": "code",
   "execution_count": 33,
   "id": "polyphonic-stockholm",
   "metadata": {},
   "outputs": [],
   "source": [
    "frequent_itemsets2.sort_values('support',ascending = False,inplace=True)"
   ]
  },
  {
   "cell_type": "code",
   "execution_count": 34,
   "id": "theoretical-halloween",
   "metadata": {},
   "outputs": [
    {
     "name": "stderr",
     "output_type": "stream",
     "text": [
      "<ipython-input-34-8b16ecdf46e9>:1: MatplotlibDeprecationWarning: Using a string of single character colors as a color sequence is deprecated since 3.2 and will be removed two minor releases later. Use an explicit list instead.\n",
      "  plt.bar(x = list(range(1,11)),height = frequent_itemsets2.support[1:11],color='rgmyk')\n"
     ]
    },
    {
     "data": {
      "text/plain": [
       "Text(0, 0.5, 'support')"
      ]
     },
     "execution_count": 34,
     "metadata": {},
     "output_type": "execute_result"
    },
    {
     "data": {
      "image/png": "[encoded data removed]",
      "text/plain": [
       "<Figure size 432x288 with 1 Axes>"
      ]
     },
     "metadata": {
      "needs_background": "light"
     },
     "output_type": "display_data"
    }
   ],
   "source": [
    "plt.bar(x = list(range(1,11)),height = frequent_itemsets2.support[1:11],color='rgmyk')\n",
    "plt.xticks(list(range(1,11)),frequent_itemsets2.itemsets[1:11])\n",
    "plt.xlabel('item-sets')\n",
    "plt.ylabel('support')"
   ]
  },
  {
   "cell_type": "code",
   "execution_count": 35,
   "id": "jewish-disease",
   "metadata": {},
   "outputs": [],
   "source": [
    "rules2 = association_rules(frequent_itemsets2, metric=\"lift\", min_threshold=1)\n",
    "rules2.head(20)\n",
    "rules2.sort_values('lift',ascending = False,inplace=True)"
   ]
  },
  {
   "cell_type": "markdown",
   "id": "recognized-israel",
   "metadata": {},
   "source": [
    "# As min lenth value is changing the rules is changing.\n",
    "#rules =1198\n",
    "#rules1=1390\n",
    "#rules2=796"
   ]
  }
 ],
 "metadata": {
  "kernelspec": {
   "display_name": "Python 3",
   "language": "python",
   "name": "python3"
  },
  "language_info": {
   "codemirror_mode": {
    "name": "ipython",
    "version": 3
   },
   "file_extension": ".py",
   "mimetype": "text/x-python",
   "name": "python",
   "nbconvert_exporter": "python",
   "pygments_lexer": "ipython3",
   "version": "3.8.3"
  }
 },
 "nbformat": 4,
 "nbformat_minor": 5
}
